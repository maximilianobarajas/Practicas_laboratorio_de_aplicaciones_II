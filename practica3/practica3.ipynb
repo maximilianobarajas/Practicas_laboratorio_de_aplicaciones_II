{
 "cells": [
  {
   "cell_type": "markdown",
   "metadata": {},
   "source": [
    "Ejercicio 1"
   ]
  },
  {
   "cell_type": "code",
   "execution_count": 9,
   "metadata": {
    "vscode": {
     "languageId": "r"
    }
   },
   "outputs": [
    {
     "name": "stdout",
     "output_type": "stream",
     "text": [
      "[1] \"Mostramos los datos en una tabla\"\n"
     ]
    },
    {
     "data": {
      "text/html": [
       "<table class=\"dataframe\">\n",
       "<caption>A data.frame: 30 × 2</caption>\n",
       "<thead>\n",
       "\t<tr><th scope=col>weight</th><th scope=col>group</th></tr>\n",
       "\t<tr><th scope=col>&lt;dbl&gt;</th><th scope=col>&lt;fct&gt;</th></tr>\n",
       "</thead>\n",
       "<tbody>\n",
       "\t<tr><td>4.17</td><td>ctrl</td></tr>\n",
       "\t<tr><td>5.58</td><td>ctrl</td></tr>\n",
       "\t<tr><td>5.18</td><td>ctrl</td></tr>\n",
       "\t<tr><td>6.11</td><td>ctrl</td></tr>\n",
       "\t<tr><td>4.50</td><td>ctrl</td></tr>\n",
       "\t<tr><td>4.61</td><td>ctrl</td></tr>\n",
       "\t<tr><td>5.17</td><td>ctrl</td></tr>\n",
       "\t<tr><td>4.53</td><td>ctrl</td></tr>\n",
       "\t<tr><td>5.33</td><td>ctrl</td></tr>\n",
       "\t<tr><td>5.14</td><td>ctrl</td></tr>\n",
       "\t<tr><td>4.81</td><td>trt1</td></tr>\n",
       "\t<tr><td>4.17</td><td>trt1</td></tr>\n",
       "\t<tr><td>4.41</td><td>trt1</td></tr>\n",
       "\t<tr><td>3.59</td><td>trt1</td></tr>\n",
       "\t<tr><td>5.87</td><td>trt1</td></tr>\n",
       "\t<tr><td>3.83</td><td>trt1</td></tr>\n",
       "\t<tr><td>6.03</td><td>trt1</td></tr>\n",
       "\t<tr><td>4.89</td><td>trt1</td></tr>\n",
       "\t<tr><td>4.32</td><td>trt1</td></tr>\n",
       "\t<tr><td>4.69</td><td>trt1</td></tr>\n",
       "\t<tr><td>6.31</td><td>trt2</td></tr>\n",
       "\t<tr><td>5.12</td><td>trt2</td></tr>\n",
       "\t<tr><td>5.54</td><td>trt2</td></tr>\n",
       "\t<tr><td>5.50</td><td>trt2</td></tr>\n",
       "\t<tr><td>5.37</td><td>trt2</td></tr>\n",
       "\t<tr><td>5.29</td><td>trt2</td></tr>\n",
       "\t<tr><td>4.92</td><td>trt2</td></tr>\n",
       "\t<tr><td>6.15</td><td>trt2</td></tr>\n",
       "\t<tr><td>5.80</td><td>trt2</td></tr>\n",
       "\t<tr><td>5.26</td><td>trt2</td></tr>\n",
       "</tbody>\n",
       "</table>\n"
      ],
      "text/latex": [
       "A data.frame: 30 × 2\n",
       "\\begin{tabular}{ll}\n",
       " weight & group\\\\\n",
       " <dbl> & <fct>\\\\\n",
       "\\hline\n",
       "\t 4.17 & ctrl\\\\\n",
       "\t 5.58 & ctrl\\\\\n",
       "\t 5.18 & ctrl\\\\\n",
       "\t 6.11 & ctrl\\\\\n",
       "\t 4.50 & ctrl\\\\\n",
       "\t 4.61 & ctrl\\\\\n",
       "\t 5.17 & ctrl\\\\\n",
       "\t 4.53 & ctrl\\\\\n",
       "\t 5.33 & ctrl\\\\\n",
       "\t 5.14 & ctrl\\\\\n",
       "\t 4.81 & trt1\\\\\n",
       "\t 4.17 & trt1\\\\\n",
       "\t 4.41 & trt1\\\\\n",
       "\t 3.59 & trt1\\\\\n",
       "\t 5.87 & trt1\\\\\n",
       "\t 3.83 & trt1\\\\\n",
       "\t 6.03 & trt1\\\\\n",
       "\t 4.89 & trt1\\\\\n",
       "\t 4.32 & trt1\\\\\n",
       "\t 4.69 & trt1\\\\\n",
       "\t 6.31 & trt2\\\\\n",
       "\t 5.12 & trt2\\\\\n",
       "\t 5.54 & trt2\\\\\n",
       "\t 5.50 & trt2\\\\\n",
       "\t 5.37 & trt2\\\\\n",
       "\t 5.29 & trt2\\\\\n",
       "\t 4.92 & trt2\\\\\n",
       "\t 6.15 & trt2\\\\\n",
       "\t 5.80 & trt2\\\\\n",
       "\t 5.26 & trt2\\\\\n",
       "\\end{tabular}\n"
      ],
      "text/markdown": [
       "\n",
       "A data.frame: 30 × 2\n",
       "\n",
       "| weight &lt;dbl&gt; | group &lt;fct&gt; |\n",
       "|---|---|\n",
       "| 4.17 | ctrl |\n",
       "| 5.58 | ctrl |\n",
       "| 5.18 | ctrl |\n",
       "| 6.11 | ctrl |\n",
       "| 4.50 | ctrl |\n",
       "| 4.61 | ctrl |\n",
       "| 5.17 | ctrl |\n",
       "| 4.53 | ctrl |\n",
       "| 5.33 | ctrl |\n",
       "| 5.14 | ctrl |\n",
       "| 4.81 | trt1 |\n",
       "| 4.17 | trt1 |\n",
       "| 4.41 | trt1 |\n",
       "| 3.59 | trt1 |\n",
       "| 5.87 | trt1 |\n",
       "| 3.83 | trt1 |\n",
       "| 6.03 | trt1 |\n",
       "| 4.89 | trt1 |\n",
       "| 4.32 | trt1 |\n",
       "| 4.69 | trt1 |\n",
       "| 6.31 | trt2 |\n",
       "| 5.12 | trt2 |\n",
       "| 5.54 | trt2 |\n",
       "| 5.50 | trt2 |\n",
       "| 5.37 | trt2 |\n",
       "| 5.29 | trt2 |\n",
       "| 4.92 | trt2 |\n",
       "| 6.15 | trt2 |\n",
       "| 5.80 | trt2 |\n",
       "| 5.26 | trt2 |\n",
       "\n"
      ],
      "text/plain": [
       "   weight group\n",
       "1  4.17   ctrl \n",
       "2  5.58   ctrl \n",
       "3  5.18   ctrl \n",
       "4  6.11   ctrl \n",
       "5  4.50   ctrl \n",
       "6  4.61   ctrl \n",
       "7  5.17   ctrl \n",
       "8  4.53   ctrl \n",
       "9  5.33   ctrl \n",
       "10 5.14   ctrl \n",
       "11 4.81   trt1 \n",
       "12 4.17   trt1 \n",
       "13 4.41   trt1 \n",
       "14 3.59   trt1 \n",
       "15 5.87   trt1 \n",
       "16 3.83   trt1 \n",
       "17 6.03   trt1 \n",
       "18 4.89   trt1 \n",
       "19 4.32   trt1 \n",
       "20 4.69   trt1 \n",
       "21 6.31   trt2 \n",
       "22 5.12   trt2 \n",
       "23 5.54   trt2 \n",
       "24 5.50   trt2 \n",
       "25 5.37   trt2 \n",
       "26 5.29   trt2 \n",
       "27 4.92   trt2 \n",
       "28 6.15   trt2 \n",
       "29 5.80   trt2 \n",
       "30 5.26   trt2 "
      ]
     },
     "metadata": {},
     "output_type": "display_data"
    }
   ],
   "source": [
    "#Extraemos la base de datos precargada en R \"plantgrowth\"\n",
    "data(\"PlantGrowth\") #Cargamos los datos con ayuda de la función data, en este caso usamos los datos de PlantGrowth\n",
    "#llamamos a la base de datos para visualizarla, ya sea dando doble\n",
    "#click en ella enla ventana de ENVIRONMENT\n",
    "print(\"Mostramos los datos en una tabla\")\n",
    "View(PlantGrowth)"
   ]
  },
  {
   "cell_type": "code",
   "execution_count": 10,
   "metadata": {
    "vscode": {
     "languageId": "r"
    }
   },
   "outputs": [
    {
     "data": {
      "text/html": [
       "<style>\n",
       ".list-inline {list-style: none; margin:0; padding: 0}\n",
       ".list-inline>li {display: inline-block}\n",
       ".list-inline>li:not(:last-child)::after {content: \"\\00b7\"; padding: 0 .5ex}\n",
       "</style>\n",
       "<ol class=list-inline><li>'weight'</li><li>'group'</li></ol>\n"
      ],
      "text/latex": [
       "\\begin{enumerate*}\n",
       "\\item 'weight'\n",
       "\\item 'group'\n",
       "\\end{enumerate*}\n"
      ],
      "text/markdown": [
       "1. 'weight'\n",
       "2. 'group'\n",
       "\n",
       "\n"
      ],
      "text/plain": [
       "[1] \"weight\" \"group\" "
      ]
     },
     "metadata": {},
     "output_type": "display_data"
    },
    {
     "name": "stderr",
     "output_type": "stream",
     "text": [
      "The following objects are masked from PlantGrowth (pos = 3):\n",
      "\n",
      "    group, weight\n",
      "\n",
      "\n",
      "The following objects are masked from PlantGrowth (pos = 7):\n",
      "\n",
      "    group, weight\n",
      "\n",
      "\n",
      "The following objects are masked from PlantGrowth (pos = 8):\n",
      "\n",
      "    group, weight\n",
      "\n",
      "\n"
     ]
    },
    {
     "data": {
      "text/html": [
       "<table class=\"dataframe\">\n",
       "<caption>A data.frame: 10 × 3</caption>\n",
       "<thead>\n",
       "\t<tr><th scope=col>ctrl</th><th scope=col>trt1</th><th scope=col>trt2</th></tr>\n",
       "\t<tr><th scope=col>&lt;dbl&gt;</th><th scope=col>&lt;dbl&gt;</th><th scope=col>&lt;dbl&gt;</th></tr>\n",
       "</thead>\n",
       "<tbody>\n",
       "\t<tr><td>4.17</td><td>4.81</td><td>6.31</td></tr>\n",
       "\t<tr><td>5.58</td><td>4.17</td><td>5.12</td></tr>\n",
       "\t<tr><td>5.18</td><td>4.41</td><td>5.54</td></tr>\n",
       "\t<tr><td>6.11</td><td>3.59</td><td>5.50</td></tr>\n",
       "\t<tr><td>4.50</td><td>5.87</td><td>5.37</td></tr>\n",
       "\t<tr><td>4.61</td><td>3.83</td><td>5.29</td></tr>\n",
       "\t<tr><td>5.17</td><td>6.03</td><td>4.92</td></tr>\n",
       "\t<tr><td>4.53</td><td>4.89</td><td>6.15</td></tr>\n",
       "\t<tr><td>5.33</td><td>4.32</td><td>5.80</td></tr>\n",
       "\t<tr><td>5.14</td><td>4.69</td><td>5.26</td></tr>\n",
       "</tbody>\n",
       "</table>\n"
      ],
      "text/latex": [
       "A data.frame: 10 × 3\n",
       "\\begin{tabular}{lll}\n",
       " ctrl & trt1 & trt2\\\\\n",
       " <dbl> & <dbl> & <dbl>\\\\\n",
       "\\hline\n",
       "\t 4.17 & 4.81 & 6.31\\\\\n",
       "\t 5.58 & 4.17 & 5.12\\\\\n",
       "\t 5.18 & 4.41 & 5.54\\\\\n",
       "\t 6.11 & 3.59 & 5.50\\\\\n",
       "\t 4.50 & 5.87 & 5.37\\\\\n",
       "\t 4.61 & 3.83 & 5.29\\\\\n",
       "\t 5.17 & 6.03 & 4.92\\\\\n",
       "\t 4.53 & 4.89 & 6.15\\\\\n",
       "\t 5.33 & 4.32 & 5.80\\\\\n",
       "\t 5.14 & 4.69 & 5.26\\\\\n",
       "\\end{tabular}\n"
      ],
      "text/markdown": [
       "\n",
       "A data.frame: 10 × 3\n",
       "\n",
       "| ctrl &lt;dbl&gt; | trt1 &lt;dbl&gt; | trt2 &lt;dbl&gt; |\n",
       "|---|---|---|\n",
       "| 4.17 | 4.81 | 6.31 |\n",
       "| 5.58 | 4.17 | 5.12 |\n",
       "| 5.18 | 4.41 | 5.54 |\n",
       "| 6.11 | 3.59 | 5.50 |\n",
       "| 4.50 | 5.87 | 5.37 |\n",
       "| 4.61 | 3.83 | 5.29 |\n",
       "| 5.17 | 6.03 | 4.92 |\n",
       "| 4.53 | 4.89 | 6.15 |\n",
       "| 5.33 | 4.32 | 5.80 |\n",
       "| 5.14 | 4.69 | 5.26 |\n",
       "\n"
      ],
      "text/plain": [
       "   ctrl trt1 trt2\n",
       "1  4.17 4.81 6.31\n",
       "2  5.58 4.17 5.12\n",
       "3  5.18 4.41 5.54\n",
       "4  6.11 3.59 5.50\n",
       "5  4.50 5.87 5.37\n",
       "6  4.61 3.83 5.29\n",
       "7  5.17 6.03 4.92\n",
       "8  4.53 4.89 6.15\n",
       "9  5.33 4.32 5.80\n",
       "10 5.14 4.69 5.26"
      ]
     },
     "metadata": {},
     "output_type": "display_data"
    },
    {
     "data": {
      "text/html": [
       "<table class=\"dataframe\">\n",
       "<caption>A data.frame: 10 × 3</caption>\n",
       "<thead>\n",
       "\t<tr><th scope=col>ctrl</th><th scope=col>trt1</th><th scope=col>trt2</th></tr>\n",
       "\t<tr><th scope=col>&lt;dbl&gt;</th><th scope=col>&lt;dbl&gt;</th><th scope=col>&lt;dbl&gt;</th></tr>\n",
       "</thead>\n",
       "<tbody>\n",
       "\t<tr><td>4.17</td><td>4.81</td><td>6.31</td></tr>\n",
       "\t<tr><td>5.58</td><td>4.17</td><td>5.12</td></tr>\n",
       "\t<tr><td>5.18</td><td>4.41</td><td>5.54</td></tr>\n",
       "\t<tr><td>6.11</td><td>3.59</td><td>5.50</td></tr>\n",
       "\t<tr><td>4.50</td><td>5.87</td><td>5.37</td></tr>\n",
       "\t<tr><td>4.61</td><td>3.83</td><td>5.29</td></tr>\n",
       "\t<tr><td>5.17</td><td>6.03</td><td>4.92</td></tr>\n",
       "\t<tr><td>4.53</td><td>4.89</td><td>6.15</td></tr>\n",
       "\t<tr><td>5.33</td><td>4.32</td><td>5.80</td></tr>\n",
       "\t<tr><td>5.14</td><td>4.69</td><td>5.26</td></tr>\n",
       "</tbody>\n",
       "</table>\n"
      ],
      "text/latex": [
       "A data.frame: 10 × 3\n",
       "\\begin{tabular}{lll}\n",
       " ctrl & trt1 & trt2\\\\\n",
       " <dbl> & <dbl> & <dbl>\\\\\n",
       "\\hline\n",
       "\t 4.17 & 4.81 & 6.31\\\\\n",
       "\t 5.58 & 4.17 & 5.12\\\\\n",
       "\t 5.18 & 4.41 & 5.54\\\\\n",
       "\t 6.11 & 3.59 & 5.50\\\\\n",
       "\t 4.50 & 5.87 & 5.37\\\\\n",
       "\t 4.61 & 3.83 & 5.29\\\\\n",
       "\t 5.17 & 6.03 & 4.92\\\\\n",
       "\t 4.53 & 4.89 & 6.15\\\\\n",
       "\t 5.33 & 4.32 & 5.80\\\\\n",
       "\t 5.14 & 4.69 & 5.26\\\\\n",
       "\\end{tabular}\n"
      ],
      "text/markdown": [
       "\n",
       "A data.frame: 10 × 3\n",
       "\n",
       "| ctrl &lt;dbl&gt; | trt1 &lt;dbl&gt; | trt2 &lt;dbl&gt; |\n",
       "|---|---|---|\n",
       "| 4.17 | 4.81 | 6.31 |\n",
       "| 5.58 | 4.17 | 5.12 |\n",
       "| 5.18 | 4.41 | 5.54 |\n",
       "| 6.11 | 3.59 | 5.50 |\n",
       "| 4.50 | 5.87 | 5.37 |\n",
       "| 4.61 | 3.83 | 5.29 |\n",
       "| 5.17 | 6.03 | 4.92 |\n",
       "| 4.53 | 4.89 | 6.15 |\n",
       "| 5.33 | 4.32 | 5.80 |\n",
       "| 5.14 | 4.69 | 5.26 |\n",
       "\n"
      ],
      "text/plain": [
       "   ctrl trt1 trt2\n",
       "1  4.17 4.81 6.31\n",
       "2  5.58 4.17 5.12\n",
       "3  5.18 4.41 5.54\n",
       "4  6.11 3.59 5.50\n",
       "5  4.50 5.87 5.37\n",
       "6  4.61 3.83 5.29\n",
       "7  5.17 6.03 4.92\n",
       "8  4.53 4.89 6.15\n",
       "9  5.33 4.32 5.80\n",
       "10 5.14 4.69 5.26"
      ]
     },
     "metadata": {},
     "output_type": "display_data"
    },
    {
     "data": {
      "text/html": [
       "<style>\n",
       ".list-inline {list-style: none; margin:0; padding: 0}\n",
       ".list-inline>li {display: inline-block}\n",
       ".list-inline>li:not(:last-child)::after {content: \"\\00b7\"; padding: 0 .5ex}\n",
       "</style>\n",
       "<ol class=list-inline><li>4.17</li><li>5.58</li><li>5.18</li><li>6.11</li><li>4.5</li><li>4.61</li><li>5.17</li><li>4.53</li><li>5.33</li><li>5.14</li><li>4.81</li><li>4.17</li><li>4.41</li><li>3.59</li><li>5.87</li><li>3.83</li><li>6.03</li><li>4.89</li><li>4.32</li><li>4.69</li><li>6.31</li><li>5.12</li><li>5.54</li><li>5.5</li><li>5.37</li><li>5.29</li><li>4.92</li><li>6.15</li><li>5.8</li><li>5.26</li></ol>\n"
      ],
      "text/latex": [
       "\\begin{enumerate*}\n",
       "\\item 4.17\n",
       "\\item 5.58\n",
       "\\item 5.18\n",
       "\\item 6.11\n",
       "\\item 4.5\n",
       "\\item 4.61\n",
       "\\item 5.17\n",
       "\\item 4.53\n",
       "\\item 5.33\n",
       "\\item 5.14\n",
       "\\item 4.81\n",
       "\\item 4.17\n",
       "\\item 4.41\n",
       "\\item 3.59\n",
       "\\item 5.87\n",
       "\\item 3.83\n",
       "\\item 6.03\n",
       "\\item 4.89\n",
       "\\item 4.32\n",
       "\\item 4.69\n",
       "\\item 6.31\n",
       "\\item 5.12\n",
       "\\item 5.54\n",
       "\\item 5.5\n",
       "\\item 5.37\n",
       "\\item 5.29\n",
       "\\item 4.92\n",
       "\\item 6.15\n",
       "\\item 5.8\n",
       "\\item 5.26\n",
       "\\end{enumerate*}\n"
      ],
      "text/markdown": [
       "1. 4.17\n",
       "2. 5.58\n",
       "3. 5.18\n",
       "4. 6.11\n",
       "5. 4.5\n",
       "6. 4.61\n",
       "7. 5.17\n",
       "8. 4.53\n",
       "9. 5.33\n",
       "10. 5.14\n",
       "11. 4.81\n",
       "12. 4.17\n",
       "13. 4.41\n",
       "14. 3.59\n",
       "15. 5.87\n",
       "16. 3.83\n",
       "17. 6.03\n",
       "18. 4.89\n",
       "19. 4.32\n",
       "20. 4.69\n",
       "21. 6.31\n",
       "22. 5.12\n",
       "23. 5.54\n",
       "24. 5.5\n",
       "25. 5.37\n",
       "26. 5.29\n",
       "27. 4.92\n",
       "28. 6.15\n",
       "29. 5.8\n",
       "30. 5.26\n",
       "\n",
       "\n"
      ],
      "text/plain": [
       " [1] 4.17 5.58 5.18 6.11 4.50 4.61 5.17 4.53 5.33 5.14 4.81 4.17 4.41 3.59 5.87\n",
       "[16] 3.83 6.03 4.89 4.32 4.69 6.31 5.12 5.54 5.50 5.37 5.29 4.92 6.15 5.80 5.26"
      ]
     },
     "metadata": {},
     "output_type": "display_data"
    },
    {
     "data": {
      "text/html": [
       "<style>\n",
       ".list-inline {list-style: none; margin:0; padding: 0}\n",
       ".list-inline>li {display: inline-block}\n",
       ".list-inline>li:not(:last-child)::after {content: \"\\00b7\"; padding: 0 .5ex}\n",
       "</style>\n",
       "<ol class=list-inline><li>ctrl</li><li>ctrl</li><li>ctrl</li><li>ctrl</li><li>ctrl</li><li>ctrl</li><li>ctrl</li><li>ctrl</li><li>ctrl</li><li>ctrl</li><li>trt1</li><li>trt1</li><li>trt1</li><li>trt1</li><li>trt1</li><li>trt1</li><li>trt1</li><li>trt1</li><li>trt1</li><li>trt1</li><li>trt2</li><li>trt2</li><li>trt2</li><li>trt2</li><li>trt2</li><li>trt2</li><li>trt2</li><li>trt2</li><li>trt2</li><li>trt2</li></ol>\n",
       "\n",
       "<details>\n",
       "\t<summary style=display:list-item;cursor:pointer>\n",
       "\t\t<strong>Levels</strong>:\n",
       "\t</summary>\n",
       "\t<style>\n",
       "\t.list-inline {list-style: none; margin:0; padding: 0}\n",
       "\t.list-inline>li {display: inline-block}\n",
       "\t.list-inline>li:not(:last-child)::after {content: \"\\00b7\"; padding: 0 .5ex}\n",
       "\t</style>\n",
       "\t<ol class=list-inline><li>'ctrl'</li><li>'trt1'</li><li>'trt2'</li></ol>\n",
       "</details>"
      ],
      "text/latex": [
       "\\begin{enumerate*}\n",
       "\\item ctrl\n",
       "\\item ctrl\n",
       "\\item ctrl\n",
       "\\item ctrl\n",
       "\\item ctrl\n",
       "\\item ctrl\n",
       "\\item ctrl\n",
       "\\item ctrl\n",
       "\\item ctrl\n",
       "\\item ctrl\n",
       "\\item trt1\n",
       "\\item trt1\n",
       "\\item trt1\n",
       "\\item trt1\n",
       "\\item trt1\n",
       "\\item trt1\n",
       "\\item trt1\n",
       "\\item trt1\n",
       "\\item trt1\n",
       "\\item trt1\n",
       "\\item trt2\n",
       "\\item trt2\n",
       "\\item trt2\n",
       "\\item trt2\n",
       "\\item trt2\n",
       "\\item trt2\n",
       "\\item trt2\n",
       "\\item trt2\n",
       "\\item trt2\n",
       "\\item trt2\n",
       "\\end{enumerate*}\n",
       "\n",
       "\\emph{Levels}: \\begin{enumerate*}\n",
       "\\item 'ctrl'\n",
       "\\item 'trt1'\n",
       "\\item 'trt2'\n",
       "\\end{enumerate*}\n"
      ],
      "text/markdown": [
       "1. ctrl\n",
       "2. ctrl\n",
       "3. ctrl\n",
       "4. ctrl\n",
       "5. ctrl\n",
       "6. ctrl\n",
       "7. ctrl\n",
       "8. ctrl\n",
       "9. ctrl\n",
       "10. ctrl\n",
       "11. trt1\n",
       "12. trt1\n",
       "13. trt1\n",
       "14. trt1\n",
       "15. trt1\n",
       "16. trt1\n",
       "17. trt1\n",
       "18. trt1\n",
       "19. trt1\n",
       "20. trt1\n",
       "21. trt2\n",
       "22. trt2\n",
       "23. trt2\n",
       "24. trt2\n",
       "25. trt2\n",
       "26. trt2\n",
       "27. trt2\n",
       "28. trt2\n",
       "29. trt2\n",
       "30. trt2\n",
       "\n",
       "\n",
       "\n",
       "**Levels**: 1. 'ctrl'\n",
       "2. 'trt1'\n",
       "3. 'trt2'\n",
       "\n",
       "\n"
      ],
      "text/plain": [
       " [1] ctrl ctrl ctrl ctrl ctrl ctrl ctrl ctrl ctrl ctrl trt1 trt1 trt1 trt1 trt1\n",
       "[16] trt1 trt1 trt1 trt1 trt1 trt2 trt2 trt2 trt2 trt2 trt2 trt2 trt2 trt2 trt2\n",
       "Levels: ctrl trt1 trt2"
      ]
     },
     "metadata": {},
     "output_type": "display_data"
    }
   ],
   "source": [
    "#visualizar las variables de la base con la funcion names()\n",
    "names(PlantGrowth) #Para ver las variables utilizamos la función name\n",
    "#podemos fijar la base de datos para estudiar solamente las variables\n",
    "attach(PlantGrowth) #Utilizamos la función attach \n",
    "#creamos un data.frame a partir de la base\n",
    "unstack(PlantGrowth) #Usamos la función unstack para trasponer el dataframe de tal forma que losgrupos sean las etiquetas\n",
    "PG<-data.frame(unstack(PlantGrowth))\n",
    "View(PG) #Mostramos el dataframe\n",
    "#podemos definir un nuevo vector con los pesos correspondientes al grupo de \"control\"\n",
    "weight.ctrl = weight[group==\"ctrl\"]\n",
    "weight\n",
    "group"
   ]
  },
  {
   "cell_type": "code",
   "execution_count": 16,
   "metadata": {
    "vscode": {
     "languageId": "r"
    }
   },
   "outputs": [
    {
     "data": {
      "image/png": "[encoded data removed]",
      "text/plain": [
       "plot without title"
      ]
     },
     "metadata": {
      "image/png": {
       "height": 420,
       "width": 420
      }
     },
     "output_type": "display_data"
    }
   ],
   "source": [
    "#Generamos una grafica de cajas con la base de datos\n",
    "library(RColorBrewer) #Utilizamos la biblioteca colorbrewer para poder generar un arreglo de colores para utilizar en la gráfica\n",
    "colores <- brewer.pal(5, \"Set1\")\n",
    "boxplot(PG,col=colores) #Utilizamos la funcición boxplot"
   ]
  },
  {
   "cell_type": "markdown",
   "metadata": {},
   "source": [
    "Ejercicio 2"
   ]
  },
  {
   "cell_type": "code",
   "execution_count": 62,
   "metadata": {
    "vscode": {
     "languageId": "r"
    }
   },
   "outputs": [
    {
     "data": {
      "text/html": [
       "<table class=\"dataframe\">\n",
       "<caption>A nfnGroupedData: 5 × 4</caption>\n",
       "<thead>\n",
       "\t<tr><th></th><th scope=col>weight</th><th scope=col>Time</th><th scope=col>Chick</th><th scope=col>Diet</th></tr>\n",
       "\t<tr><th></th><th scope=col>&lt;dbl&gt;</th><th scope=col>&lt;dbl&gt;</th><th scope=col>&lt;ord&gt;</th><th scope=col>&lt;fct&gt;</th></tr>\n",
       "</thead>\n",
       "<tbody>\n",
       "\t<tr><th scope=row>1</th><td>42</td><td>0</td><td>1</td><td>1</td></tr>\n",
       "\t<tr><th scope=row>2</th><td>51</td><td>2</td><td>1</td><td>1</td></tr>\n",
       "\t<tr><th scope=row>3</th><td>59</td><td>4</td><td>1</td><td>1</td></tr>\n",
       "\t<tr><th scope=row>4</th><td>64</td><td>6</td><td>1</td><td>1</td></tr>\n",
       "\t<tr><th scope=row>5</th><td>76</td><td>8</td><td>1</td><td>1</td></tr>\n",
       "</tbody>\n",
       "</table>\n"
      ],
      "text/latex": [
       "A nfnGroupedData: 5 × 4\n",
       "\\begin{tabular}{r|llll}\n",
       "  & weight & Time & Chick & Diet\\\\\n",
       "  & <dbl> & <dbl> & <ord> & <fct>\\\\\n",
       "\\hline\n",
       "\t1 & 42 & 0 & 1 & 1\\\\\n",
       "\t2 & 51 & 2 & 1 & 1\\\\\n",
       "\t3 & 59 & 4 & 1 & 1\\\\\n",
       "\t4 & 64 & 6 & 1 & 1\\\\\n",
       "\t5 & 76 & 8 & 1 & 1\\\\\n",
       "\\end{tabular}\n"
      ],
      "text/markdown": [
       "\n",
       "A nfnGroupedData: 5 × 4\n",
       "\n",
       "| <!--/--> | weight &lt;dbl&gt; | Time &lt;dbl&gt; | Chick &lt;ord&gt; | Diet &lt;fct&gt; |\n",
       "|---|---|---|---|---|\n",
       "| 1 | 42 | 0 | 1 | 1 |\n",
       "| 2 | 51 | 2 | 1 | 1 |\n",
       "| 3 | 59 | 4 | 1 | 1 |\n",
       "| 4 | 64 | 6 | 1 | 1 |\n",
       "| 5 | 76 | 8 | 1 | 1 |\n",
       "\n"
      ],
      "text/plain": [
       "  weight Time Chick Diet\n",
       "1 42     0    1     1   \n",
       "2 51     2    1     1   \n",
       "3 59     4    1     1   \n",
       "4 64     6    1     1   \n",
       "5 76     8    1     1   "
      ]
     },
     "metadata": {},
     "output_type": "display_data"
    },
    {
     "data": {
      "text/plain": [
       "\n",
       "  1   2   3   4 \n",
       "220 120 120 118 "
      ]
     },
     "metadata": {},
     "output_type": "display_data"
    }
   ],
   "source": [
    "#Cargamos el DataSet ChickenWeight\n",
    "data(\"ChickWeight\")\n",
    "#Mostramos los primeros 5 renglones de los datos\n",
    "ChickWeight[1:5,]\n",
    "# Creamos una tabla de frecuencias para los tipos de dieta\n",
    "diet.freq <- table(ChickWeight$Diet)\n",
    "diet.freq"
   ]
  },
  {
   "cell_type": "code",
   "execution_count": 64,
   "metadata": {
    "vscode": {
     "languageId": "r"
    }
   },
   "outputs": [
    {
     "data": {
      "image/png": "[encoded data removed]",
      "text/plain": [
       "Plot with title “Frecuencia de las dietas”"
      ]
     },
     "metadata": {
      "image/png": {
       "height": 420,
       "width": 420
      }
     },
     "output_type": "display_data"
    }
   ],
   "source": [
    "#Creamos una gáfica de barras con la tabla de frecuencias de las dietas\n",
    "barplot(diet.freq, main=\"Frecuencia de las dietas\", col=brewer.pal(5, \"Set3\"))\n"
   ]
  },
  {
   "cell_type": "code",
   "execution_count": 78,
   "metadata": {
    "vscode": {
     "languageId": "r"
    }
   },
   "outputs": [
    {
     "data": {
      "text/plain": [
       "\n",
       " 35  39  40  41  42  43  44  45  47  48  49  50  51  52  53  54  55  56  57  58 \n",
       "  1   2   1  10   6   3   1   1   1   3   8   1   6   1   1   2   2   3   2   2 \n",
       " 59  60  61  62  63  64  65  67  68  70  71  72  73  74  76  77  79  81  82  83 \n",
       "  3   2   2   3   2   2   3   4   4   1   5   3   1   3   1   1   2   2   1   1 \n",
       " 84  85  87  88  89  90  91  92  93  96  97  98  99 100 101 102 103 106 107 108 \n",
       "  4   1   1   2   4   1   1   1   3   3   1   3   1   2   2   1   2   3   1   1 \n",
       "110 112 113 115 116 117 119 120 122 123 124 125 126 128 133 134 135 136 138 139 \n",
       "  1   3   1   2   1   1   1   2   1   1   2   2   1   1   1   1   1   1   2   1 \n",
       "141 142 144 146 148 149 154 155 157 160 162 163 164 168 171 174 175 177 181 182 \n",
       "  2   1   1   1   1   1   1   1   3   3   2   1   2   1   1   1   1   1   1   1 \n",
       "184 185 187 192 195 197 198 199 202 205 209 215 218 220 223 227 248 250 259 266 \n",
       "  1   1   2   1   1   1   1   2   1   2   1   1   1   1   1   1   1   1   1   1 \n",
       "288 305 \n",
       "  1   1 "
      ]
     },
     "metadata": {},
     "output_type": "display_data"
    },
    {
     "data": {
      "text/plain": [
       "\n",
       " 39  40  41  42  43  46  48  49  50  52  55  57  58  59  61  62  64  66  68  70 \n",
       "  3   2   1   3   1   2   3   1   1   2   1   1   3   2   1   2   1   1   1   1 \n",
       " 71  72  73  74  76  77  78  85  86  87  90  92  93  95  98 100 102 103 106 108 \n",
       "  1   3   3   4   1   1   1   1   1   2   2   1   1   1   1   1   1   1   1   1 \n",
       "111 114 115 122 123 124 125 127 131 134 135 136 143 144 145 146 147 148 150 151 \n",
       "  1   2   2   1   1   1   1   1   1   1   1   1   1   1   2   1   1   1   2   1 \n",
       "156 157 163 164 167 169 170 175 184 185 187 192 197 205 207 212 217 230 231 233 \n",
       "  1   1   3   2   1   1   1   1   1   1   1   1   1   1   1   1   1   1   1   1 \n",
       "236 240 251 259 265 275 279 307 309 318 331 \n",
       "  1   1   1   1   1   1   1   1   1   1   1 "
      ]
     },
     "metadata": {},
     "output_type": "display_data"
    }
   ],
   "source": [
    "#Podemos consultar los pesos de aquellos con la dieta 1 o dieta 2 respectivamente\n",
    "table(ChickWeight$weight[ChickWeight$Diet == 1])\n",
    "table(ChickWeight$weight[ChickWeight$Diet == 2])"
   ]
  },
  {
   "cell_type": "code",
   "execution_count": 80,
   "metadata": {
    "vscode": {
     "languageId": "r"
    }
   },
   "outputs": [
    {
     "data": {
      "image/png": "[encoded data removed]",
      "text/plain": [
       "Plot with title “Peso promedio por dieta”"
      ]
     },
     "metadata": {
      "image/png": {
       "height": 420,
       "width": 420
      }
     },
     "output_type": "display_data"
    }
   ],
   "source": [
    "#De igual forma podemos crear una gráfica de barras horizontal con las dietas y el peso promedio de cada una\n",
    "#Obtenemos los promedios de los pesos\n",
    "pesos_promedio <- tapply(ChickWeight$weight, ChickWeight$Diet, mean)\n",
    "#Podemos concatenar los datos en un DataFrame\n",
    "datos_peso_promedio_por_dieta <- data.frame(Diet = names(pesos_promedio), Weight = pesos_promedio)\n",
    "#INstanciamos la gráfica de barras\n",
    "barplot(datos_peso_promedio_por_dieta$Weight, names.arg = datos_peso_promedio_por_dieta$Diet, horiz=TRUE, las=1,\n",
    "        main=\"Peso promedio por dieta\",\n",
    "        xlab=\"Peso\", ylab=\"Dieta\",\n",
    "        col=brewer.pal(5, \"Set3\"))\n",
    "legend(\"topright\", legend=datos_peso_promedio_por_dieta$Diet, fill=brewer.pal(5, \"Set3\"))\n"
   ]
  },
  {
   "cell_type": "code",
   "execution_count": 81,
   "metadata": {
    "vscode": {
     "languageId": "r"
    }
   },
   "outputs": [
    {
     "data": {
      "image/png": "[encoded data removed]",
      "text/plain": [
       "Plot with title “Frecuencias de las dietas”"
      ]
     },
     "metadata": {
      "image/png": {
       "height": 420,
       "width": 420
      }
     },
     "output_type": "display_data"
    }
   ],
   "source": [
    "#Podemos crear una gráfica de pastel\n",
    "pie(table(ChickWeight$Diet), labels=unique(ChickWeight$Diet),\n",
    "    col=brewer.pal(5, \"Set3\"), main=\"Frecuencias de las dietas\")\n"
   ]
  },
  {
   "cell_type": "code",
   "execution_count": 83,
   "metadata": {
    "vscode": {
     "languageId": "r"
    }
   },
   "outputs": [
    {
     "data": {
      "image/png": "[encoded data removed]",
      "text/plain": [
       "Plot with title “Pesos”"
      ]
     },
     "metadata": {
      "image/png": {
       "height": 420,
       "width": 420
      }
     },
     "output_type": "display_data"
    }
   ],
   "source": [
    "#También podemos crear un histograma dados los pesos de los datos originales\n",
    "hist(ChickWeight$weight, col=brewer.pal(5, \"Set3\"), main=\"Pesos\", xlab=\"Peso\",ylab=\"Frecuencia\")\n",
    "abline(v=c(mean(ChickWeight$weight), median(ChickWeight$weight)), lty=c(2,3), lwd=2)\n",
    "legend(\"topright\", legend=c(\"Peso Promedio\", \"Mediana del peso\"), lty=c(2,3), lwd=2)"
   ]
  },
  {
   "cell_type": "markdown",
   "metadata": {},
   "source": [
    "Ejercicio 3"
   ]
  },
  {
   "cell_type": "code",
   "execution_count": 67,
   "metadata": {
    "vscode": {
     "languageId": "r"
    }
   },
   "outputs": [
    {
     "data": {
      "text/html": [
       "<table class=\"dataframe\">\n",
       "<caption>A data.frame: 5 × 5</caption>\n",
       "<thead>\n",
       "\t<tr><th></th><th scope=col>Sepal.Length</th><th scope=col>Sepal.Width</th><th scope=col>Petal.Length</th><th scope=col>Petal.Width</th><th scope=col>Species</th></tr>\n",
       "\t<tr><th></th><th scope=col>&lt;dbl&gt;</th><th scope=col>&lt;dbl&gt;</th><th scope=col>&lt;dbl&gt;</th><th scope=col>&lt;dbl&gt;</th><th scope=col>&lt;fct&gt;</th></tr>\n",
       "</thead>\n",
       "<tbody>\n",
       "\t<tr><th scope=row>1</th><td>5.1</td><td>3.5</td><td>1.4</td><td>0.2</td><td>setosa</td></tr>\n",
       "\t<tr><th scope=row>2</th><td>4.9</td><td>3.0</td><td>1.4</td><td>0.2</td><td>setosa</td></tr>\n",
       "\t<tr><th scope=row>3</th><td>4.7</td><td>3.2</td><td>1.3</td><td>0.2</td><td>setosa</td></tr>\n",
       "\t<tr><th scope=row>4</th><td>4.6</td><td>3.1</td><td>1.5</td><td>0.2</td><td>setosa</td></tr>\n",
       "\t<tr><th scope=row>5</th><td>5.0</td><td>3.6</td><td>1.4</td><td>0.2</td><td>setosa</td></tr>\n",
       "</tbody>\n",
       "</table>\n"
      ],
      "text/latex": [
       "A data.frame: 5 × 5\n",
       "\\begin{tabular}{r|lllll}\n",
       "  & Sepal.Length & Sepal.Width & Petal.Length & Petal.Width & Species\\\\\n",
       "  & <dbl> & <dbl> & <dbl> & <dbl> & <fct>\\\\\n",
       "\\hline\n",
       "\t1 & 5.1 & 3.5 & 1.4 & 0.2 & setosa\\\\\n",
       "\t2 & 4.9 & 3.0 & 1.4 & 0.2 & setosa\\\\\n",
       "\t3 & 4.7 & 3.2 & 1.3 & 0.2 & setosa\\\\\n",
       "\t4 & 4.6 & 3.1 & 1.5 & 0.2 & setosa\\\\\n",
       "\t5 & 5.0 & 3.6 & 1.4 & 0.2 & setosa\\\\\n",
       "\\end{tabular}\n"
      ],
      "text/markdown": [
       "\n",
       "A data.frame: 5 × 5\n",
       "\n",
       "| <!--/--> | Sepal.Length &lt;dbl&gt; | Sepal.Width &lt;dbl&gt; | Petal.Length &lt;dbl&gt; | Petal.Width &lt;dbl&gt; | Species &lt;fct&gt; |\n",
       "|---|---|---|---|---|---|\n",
       "| 1 | 5.1 | 3.5 | 1.4 | 0.2 | setosa |\n",
       "| 2 | 4.9 | 3.0 | 1.4 | 0.2 | setosa |\n",
       "| 3 | 4.7 | 3.2 | 1.3 | 0.2 | setosa |\n",
       "| 4 | 4.6 | 3.1 | 1.5 | 0.2 | setosa |\n",
       "| 5 | 5.0 | 3.6 | 1.4 | 0.2 | setosa |\n",
       "\n"
      ],
      "text/plain": [
       "  Sepal.Length Sepal.Width Petal.Length Petal.Width Species\n",
       "1 5.1          3.5         1.4          0.2         setosa \n",
       "2 4.9          3.0         1.4          0.2         setosa \n",
       "3 4.7          3.2         1.3          0.2         setosa \n",
       "4 4.6          3.1         1.5          0.2         setosa \n",
       "5 5.0          3.6         1.4          0.2         setosa "
      ]
     },
     "metadata": {},
     "output_type": "display_data"
    }
   ],
   "source": [
    "#Cargamos la base de datos iris\n",
    "data(\"iris\")\n",
    "iris[1:5,]"
   ]
  },
  {
   "cell_type": "code",
   "execution_count": 18,
   "metadata": {
    "vscode": {
     "languageId": "r"
    }
   },
   "outputs": [
    {
     "data": {
      "text/html": [
       "<style>\n",
       ".list-inline {list-style: none; margin:0; padding: 0}\n",
       ".list-inline>li {display: inline-block}\n",
       ".list-inline>li:not(:last-child)::after {content: \"\\00b7\"; padding: 0 .5ex}\n",
       "</style>\n",
       "<ol class=list-inline><li>'Sepal.Length'</li><li>'Sepal.Width'</li><li>'Petal.Length'</li><li>'Petal.Width'</li><li>'Species'</li></ol>\n"
      ],
      "text/latex": [
       "\\begin{enumerate*}\n",
       "\\item 'Sepal.Length'\n",
       "\\item 'Sepal.Width'\n",
       "\\item 'Petal.Length'\n",
       "\\item 'Petal.Width'\n",
       "\\item 'Species'\n",
       "\\end{enumerate*}\n"
      ],
      "text/markdown": [
       "1. 'Sepal.Length'\n",
       "2. 'Sepal.Width'\n",
       "3. 'Petal.Length'\n",
       "4. 'Petal.Width'\n",
       "5. 'Species'\n",
       "\n",
       "\n"
      ],
      "text/plain": [
       "[1] \"Sepal.Length\" \"Sepal.Width\"  \"Petal.Length\" \"Petal.Width\"  \"Species\"     "
      ]
     },
     "metadata": {},
     "output_type": "display_data"
    },
    {
     "name": "stderr",
     "output_type": "stream",
     "text": [
      "The following objects are masked from iris (pos = 4):\n",
      "\n",
      "    Petal.Length, Petal.Width, Sepal.Length, Sepal.Width, Species\n",
      "\n",
      "\n"
     ]
    }
   ],
   "source": [
    "#Mostramos las variables de la base de datos iris\n",
    "names(iris)\n",
    "#Fijamos la base de datos de tal forma que analizamos solo las variables\n",
    "attach(iris)"
   ]
  },
  {
   "cell_type": "markdown",
   "metadata": {},
   "source": [
    "Puesto que el DataSet iris posee 4 características vamos a repetir el proceso del ejercicio 1 eligiendo la especie y alguna otra columna para cada una de las columnas Petal.Length, Petal.Width, Sepal.Length, Sepal.Width"
   ]
  },
  {
   "cell_type": "code",
   "execution_count": 45,
   "metadata": {
    "vscode": {
     "languageId": "r"
    }
   },
   "outputs": [
    {
     "data": {
      "text/html": [
       "<table class=\"dataframe\">\n",
       "<caption>A data.frame: 50 × 3</caption>\n",
       "<thead>\n",
       "\t<tr><th scope=col>setosa</th><th scope=col>versicolor</th><th scope=col>virginica</th></tr>\n",
       "\t<tr><th scope=col>&lt;dbl&gt;</th><th scope=col>&lt;dbl&gt;</th><th scope=col>&lt;dbl&gt;</th></tr>\n",
       "</thead>\n",
       "<tbody>\n",
       "\t<tr><td>1.4</td><td>4.7</td><td>6.0</td></tr>\n",
       "\t<tr><td>1.4</td><td>4.5</td><td>5.1</td></tr>\n",
       "\t<tr><td>1.3</td><td>4.9</td><td>5.9</td></tr>\n",
       "\t<tr><td>1.5</td><td>4.0</td><td>5.6</td></tr>\n",
       "\t<tr><td>1.4</td><td>4.6</td><td>5.8</td></tr>\n",
       "\t<tr><td>1.7</td><td>4.5</td><td>6.6</td></tr>\n",
       "\t<tr><td>1.4</td><td>4.7</td><td>4.5</td></tr>\n",
       "\t<tr><td>1.5</td><td>3.3</td><td>6.3</td></tr>\n",
       "\t<tr><td>1.4</td><td>4.6</td><td>5.8</td></tr>\n",
       "\t<tr><td>1.5</td><td>3.9</td><td>6.1</td></tr>\n",
       "\t<tr><td>1.5</td><td>3.5</td><td>5.1</td></tr>\n",
       "\t<tr><td>1.6</td><td>4.2</td><td>5.3</td></tr>\n",
       "\t<tr><td>1.4</td><td>4.0</td><td>5.5</td></tr>\n",
       "\t<tr><td>1.1</td><td>4.7</td><td>5.0</td></tr>\n",
       "\t<tr><td>1.2</td><td>3.6</td><td>5.1</td></tr>\n",
       "\t<tr><td>1.5</td><td>4.4</td><td>5.3</td></tr>\n",
       "\t<tr><td>1.3</td><td>4.5</td><td>5.5</td></tr>\n",
       "\t<tr><td>1.4</td><td>4.1</td><td>6.7</td></tr>\n",
       "\t<tr><td>1.7</td><td>4.5</td><td>6.9</td></tr>\n",
       "\t<tr><td>1.5</td><td>3.9</td><td>5.0</td></tr>\n",
       "\t<tr><td>1.7</td><td>4.8</td><td>5.7</td></tr>\n",
       "\t<tr><td>1.5</td><td>4.0</td><td>4.9</td></tr>\n",
       "\t<tr><td>1.0</td><td>4.9</td><td>6.7</td></tr>\n",
       "\t<tr><td>1.7</td><td>4.7</td><td>4.9</td></tr>\n",
       "\t<tr><td>1.9</td><td>4.3</td><td>5.7</td></tr>\n",
       "\t<tr><td>1.6</td><td>4.4</td><td>6.0</td></tr>\n",
       "\t<tr><td>1.6</td><td>4.8</td><td>4.8</td></tr>\n",
       "\t<tr><td>1.5</td><td>5.0</td><td>4.9</td></tr>\n",
       "\t<tr><td>1.4</td><td>4.5</td><td>5.6</td></tr>\n",
       "\t<tr><td>1.6</td><td>3.5</td><td>5.8</td></tr>\n",
       "\t<tr><td>1.6</td><td>3.8</td><td>6.1</td></tr>\n",
       "\t<tr><td>1.5</td><td>3.7</td><td>6.4</td></tr>\n",
       "\t<tr><td>1.5</td><td>3.9</td><td>5.6</td></tr>\n",
       "\t<tr><td>1.4</td><td>5.1</td><td>5.1</td></tr>\n",
       "\t<tr><td>1.5</td><td>4.5</td><td>5.6</td></tr>\n",
       "\t<tr><td>1.2</td><td>4.5</td><td>6.1</td></tr>\n",
       "\t<tr><td>1.3</td><td>4.7</td><td>5.6</td></tr>\n",
       "\t<tr><td>1.4</td><td>4.4</td><td>5.5</td></tr>\n",
       "\t<tr><td>1.3</td><td>4.1</td><td>4.8</td></tr>\n",
       "\t<tr><td>1.5</td><td>4.0</td><td>5.4</td></tr>\n",
       "\t<tr><td>1.3</td><td>4.4</td><td>5.6</td></tr>\n",
       "\t<tr><td>1.3</td><td>4.6</td><td>5.1</td></tr>\n",
       "\t<tr><td>1.3</td><td>4.0</td><td>5.1</td></tr>\n",
       "\t<tr><td>1.6</td><td>3.3</td><td>5.9</td></tr>\n",
       "\t<tr><td>1.9</td><td>4.2</td><td>5.7</td></tr>\n",
       "\t<tr><td>1.4</td><td>4.2</td><td>5.2</td></tr>\n",
       "\t<tr><td>1.6</td><td>4.2</td><td>5.0</td></tr>\n",
       "\t<tr><td>1.4</td><td>4.3</td><td>5.2</td></tr>\n",
       "\t<tr><td>1.5</td><td>3.0</td><td>5.4</td></tr>\n",
       "\t<tr><td>1.4</td><td>4.1</td><td>5.1</td></tr>\n",
       "</tbody>\n",
       "</table>\n"
      ],
      "text/latex": [
       "A data.frame: 50 × 3\n",
       "\\begin{tabular}{lll}\n",
       " setosa & versicolor & virginica\\\\\n",
       " <dbl> & <dbl> & <dbl>\\\\\n",
       "\\hline\n",
       "\t 1.4 & 4.7 & 6.0\\\\\n",
       "\t 1.4 & 4.5 & 5.1\\\\\n",
       "\t 1.3 & 4.9 & 5.9\\\\\n",
       "\t 1.5 & 4.0 & 5.6\\\\\n",
       "\t 1.4 & 4.6 & 5.8\\\\\n",
       "\t 1.7 & 4.5 & 6.6\\\\\n",
       "\t 1.4 & 4.7 & 4.5\\\\\n",
       "\t 1.5 & 3.3 & 6.3\\\\\n",
       "\t 1.4 & 4.6 & 5.8\\\\\n",
       "\t 1.5 & 3.9 & 6.1\\\\\n",
       "\t 1.5 & 3.5 & 5.1\\\\\n",
       "\t 1.6 & 4.2 & 5.3\\\\\n",
       "\t 1.4 & 4.0 & 5.5\\\\\n",
       "\t 1.1 & 4.7 & 5.0\\\\\n",
       "\t 1.2 & 3.6 & 5.1\\\\\n",
       "\t 1.5 & 4.4 & 5.3\\\\\n",
       "\t 1.3 & 4.5 & 5.5\\\\\n",
       "\t 1.4 & 4.1 & 6.7\\\\\n",
       "\t 1.7 & 4.5 & 6.9\\\\\n",
       "\t 1.5 & 3.9 & 5.0\\\\\n",
       "\t 1.7 & 4.8 & 5.7\\\\\n",
       "\t 1.5 & 4.0 & 4.9\\\\\n",
       "\t 1.0 & 4.9 & 6.7\\\\\n",
       "\t 1.7 & 4.7 & 4.9\\\\\n",
       "\t 1.9 & 4.3 & 5.7\\\\\n",
       "\t 1.6 & 4.4 & 6.0\\\\\n",
       "\t 1.6 & 4.8 & 4.8\\\\\n",
       "\t 1.5 & 5.0 & 4.9\\\\\n",
       "\t 1.4 & 4.5 & 5.6\\\\\n",
       "\t 1.6 & 3.5 & 5.8\\\\\n",
       "\t 1.6 & 3.8 & 6.1\\\\\n",
       "\t 1.5 & 3.7 & 6.4\\\\\n",
       "\t 1.5 & 3.9 & 5.6\\\\\n",
       "\t 1.4 & 5.1 & 5.1\\\\\n",
       "\t 1.5 & 4.5 & 5.6\\\\\n",
       "\t 1.2 & 4.5 & 6.1\\\\\n",
       "\t 1.3 & 4.7 & 5.6\\\\\n",
       "\t 1.4 & 4.4 & 5.5\\\\\n",
       "\t 1.3 & 4.1 & 4.8\\\\\n",
       "\t 1.5 & 4.0 & 5.4\\\\\n",
       "\t 1.3 & 4.4 & 5.6\\\\\n",
       "\t 1.3 & 4.6 & 5.1\\\\\n",
       "\t 1.3 & 4.0 & 5.1\\\\\n",
       "\t 1.6 & 3.3 & 5.9\\\\\n",
       "\t 1.9 & 4.2 & 5.7\\\\\n",
       "\t 1.4 & 4.2 & 5.2\\\\\n",
       "\t 1.6 & 4.2 & 5.0\\\\\n",
       "\t 1.4 & 4.3 & 5.2\\\\\n",
       "\t 1.5 & 3.0 & 5.4\\\\\n",
       "\t 1.4 & 4.1 & 5.1\\\\\n",
       "\\end{tabular}\n"
      ],
      "text/markdown": [
       "\n",
       "A data.frame: 50 × 3\n",
       "\n",
       "| setosa &lt;dbl&gt; | versicolor &lt;dbl&gt; | virginica &lt;dbl&gt; |\n",
       "|---|---|---|\n",
       "| 1.4 | 4.7 | 6.0 |\n",
       "| 1.4 | 4.5 | 5.1 |\n",
       "| 1.3 | 4.9 | 5.9 |\n",
       "| 1.5 | 4.0 | 5.6 |\n",
       "| 1.4 | 4.6 | 5.8 |\n",
       "| 1.7 | 4.5 | 6.6 |\n",
       "| 1.4 | 4.7 | 4.5 |\n",
       "| 1.5 | 3.3 | 6.3 |\n",
       "| 1.4 | 4.6 | 5.8 |\n",
       "| 1.5 | 3.9 | 6.1 |\n",
       "| 1.5 | 3.5 | 5.1 |\n",
       "| 1.6 | 4.2 | 5.3 |\n",
       "| 1.4 | 4.0 | 5.5 |\n",
       "| 1.1 | 4.7 | 5.0 |\n",
       "| 1.2 | 3.6 | 5.1 |\n",
       "| 1.5 | 4.4 | 5.3 |\n",
       "| 1.3 | 4.5 | 5.5 |\n",
       "| 1.4 | 4.1 | 6.7 |\n",
       "| 1.7 | 4.5 | 6.9 |\n",
       "| 1.5 | 3.9 | 5.0 |\n",
       "| 1.7 | 4.8 | 5.7 |\n",
       "| 1.5 | 4.0 | 4.9 |\n",
       "| 1.0 | 4.9 | 6.7 |\n",
       "| 1.7 | 4.7 | 4.9 |\n",
       "| 1.9 | 4.3 | 5.7 |\n",
       "| 1.6 | 4.4 | 6.0 |\n",
       "| 1.6 | 4.8 | 4.8 |\n",
       "| 1.5 | 5.0 | 4.9 |\n",
       "| 1.4 | 4.5 | 5.6 |\n",
       "| 1.6 | 3.5 | 5.8 |\n",
       "| 1.6 | 3.8 | 6.1 |\n",
       "| 1.5 | 3.7 | 6.4 |\n",
       "| 1.5 | 3.9 | 5.6 |\n",
       "| 1.4 | 5.1 | 5.1 |\n",
       "| 1.5 | 4.5 | 5.6 |\n",
       "| 1.2 | 4.5 | 6.1 |\n",
       "| 1.3 | 4.7 | 5.6 |\n",
       "| 1.4 | 4.4 | 5.5 |\n",
       "| 1.3 | 4.1 | 4.8 |\n",
       "| 1.5 | 4.0 | 5.4 |\n",
       "| 1.3 | 4.4 | 5.6 |\n",
       "| 1.3 | 4.6 | 5.1 |\n",
       "| 1.3 | 4.0 | 5.1 |\n",
       "| 1.6 | 3.3 | 5.9 |\n",
       "| 1.9 | 4.2 | 5.7 |\n",
       "| 1.4 | 4.2 | 5.2 |\n",
       "| 1.6 | 4.2 | 5.0 |\n",
       "| 1.4 | 4.3 | 5.2 |\n",
       "| 1.5 | 3.0 | 5.4 |\n",
       "| 1.4 | 4.1 | 5.1 |\n",
       "\n"
      ],
      "text/plain": [
       "   setosa versicolor virginica\n",
       "1  1.4    4.7        6.0      \n",
       "2  1.4    4.5        5.1      \n",
       "3  1.3    4.9        5.9      \n",
       "4  1.5    4.0        5.6      \n",
       "5  1.4    4.6        5.8      \n",
       "6  1.7    4.5        6.6      \n",
       "7  1.4    4.7        4.5      \n",
       "8  1.5    3.3        6.3      \n",
       "9  1.4    4.6        5.8      \n",
       "10 1.5    3.9        6.1      \n",
       "11 1.5    3.5        5.1      \n",
       "12 1.6    4.2        5.3      \n",
       "13 1.4    4.0        5.5      \n",
       "14 1.1    4.7        5.0      \n",
       "15 1.2    3.6        5.1      \n",
       "16 1.5    4.4        5.3      \n",
       "17 1.3    4.5        5.5      \n",
       "18 1.4    4.1        6.7      \n",
       "19 1.7    4.5        6.9      \n",
       "20 1.5    3.9        5.0      \n",
       "21 1.7    4.8        5.7      \n",
       "22 1.5    4.0        4.9      \n",
       "23 1.0    4.9        6.7      \n",
       "24 1.7    4.7        4.9      \n",
       "25 1.9    4.3        5.7      \n",
       "26 1.6    4.4        6.0      \n",
       "27 1.6    4.8        4.8      \n",
       "28 1.5    5.0        4.9      \n",
       "29 1.4    4.5        5.6      \n",
       "30 1.6    3.5        5.8      \n",
       "31 1.6    3.8        6.1      \n",
       "32 1.5    3.7        6.4      \n",
       "33 1.5    3.9        5.6      \n",
       "34 1.4    5.1        5.1      \n",
       "35 1.5    4.5        5.6      \n",
       "36 1.2    4.5        6.1      \n",
       "37 1.3    4.7        5.6      \n",
       "38 1.4    4.4        5.5      \n",
       "39 1.3    4.1        4.8      \n",
       "40 1.5    4.0        5.4      \n",
       "41 1.3    4.4        5.6      \n",
       "42 1.3    4.6        5.1      \n",
       "43 1.3    4.0        5.1      \n",
       "44 1.6    3.3        5.9      \n",
       "45 1.9    4.2        5.7      \n",
       "46 1.4    4.2        5.2      \n",
       "47 1.6    4.2        5.0      \n",
       "48 1.4    4.3        5.2      \n",
       "49 1.5    3.0        5.4      \n",
       "50 1.4    4.1        5.1      "
      ]
     },
     "metadata": {},
     "output_type": "display_data"
    }
   ],
   "source": [
    "Longitud_petalo <- iris[, c(\"Petal.Length\", \"Species\")]\n",
    "#Usamos la función unstack para trasponer el dataframe de tal forma que losgrupos sean las etiquetas\n",
    "Longitud_petalo<-unstack(Longitud_petalo)\n",
    "View(Longitud_petalo) #Mostramos el dataframe"
   ]
  },
  {
   "cell_type": "code",
   "execution_count": 46,
   "metadata": {
    "vscode": {
     "languageId": "r"
    }
   },
   "outputs": [
    {
     "data": {
      "image/png": "[encoded data removed]",
      "text/plain": [
       "plot without title"
      ]
     },
     "metadata": {
      "image/png": {
       "height": 420,
       "width": 420
      }
     },
     "output_type": "display_data"
    }
   ],
   "source": [
    "colores <- brewer.pal(5, \"Set1\")\n",
    "boxplot(Longitud_petalo,col=colores) #Utilizamos la funcición boxplot"
   ]
  },
  {
   "cell_type": "code",
   "execution_count": 48,
   "metadata": {
    "vscode": {
     "languageId": "r"
    }
   },
   "outputs": [
    {
     "data": {
      "text/html": [
       "<table class=\"dataframe\">\n",
       "<caption>A data.frame: 50 × 3</caption>\n",
       "<thead>\n",
       "\t<tr><th scope=col>setosa</th><th scope=col>versicolor</th><th scope=col>virginica</th></tr>\n",
       "\t<tr><th scope=col>&lt;dbl&gt;</th><th scope=col>&lt;dbl&gt;</th><th scope=col>&lt;dbl&gt;</th></tr>\n",
       "</thead>\n",
       "<tbody>\n",
       "\t<tr><td>0.2</td><td>1.4</td><td>2.5</td></tr>\n",
       "\t<tr><td>0.2</td><td>1.5</td><td>1.9</td></tr>\n",
       "\t<tr><td>0.2</td><td>1.5</td><td>2.1</td></tr>\n",
       "\t<tr><td>0.2</td><td>1.3</td><td>1.8</td></tr>\n",
       "\t<tr><td>0.2</td><td>1.5</td><td>2.2</td></tr>\n",
       "\t<tr><td>0.4</td><td>1.3</td><td>2.1</td></tr>\n",
       "\t<tr><td>0.3</td><td>1.6</td><td>1.7</td></tr>\n",
       "\t<tr><td>0.2</td><td>1.0</td><td>1.8</td></tr>\n",
       "\t<tr><td>0.2</td><td>1.3</td><td>1.8</td></tr>\n",
       "\t<tr><td>0.1</td><td>1.4</td><td>2.5</td></tr>\n",
       "\t<tr><td>0.2</td><td>1.0</td><td>2.0</td></tr>\n",
       "\t<tr><td>0.2</td><td>1.5</td><td>1.9</td></tr>\n",
       "\t<tr><td>0.1</td><td>1.0</td><td>2.1</td></tr>\n",
       "\t<tr><td>0.1</td><td>1.4</td><td>2.0</td></tr>\n",
       "\t<tr><td>0.2</td><td>1.3</td><td>2.4</td></tr>\n",
       "\t<tr><td>0.4</td><td>1.4</td><td>2.3</td></tr>\n",
       "\t<tr><td>0.4</td><td>1.5</td><td>1.8</td></tr>\n",
       "\t<tr><td>0.3</td><td>1.0</td><td>2.2</td></tr>\n",
       "\t<tr><td>0.3</td><td>1.5</td><td>2.3</td></tr>\n",
       "\t<tr><td>0.3</td><td>1.1</td><td>1.5</td></tr>\n",
       "\t<tr><td>0.2</td><td>1.8</td><td>2.3</td></tr>\n",
       "\t<tr><td>0.4</td><td>1.3</td><td>2.0</td></tr>\n",
       "\t<tr><td>0.2</td><td>1.5</td><td>2.0</td></tr>\n",
       "\t<tr><td>0.5</td><td>1.2</td><td>1.8</td></tr>\n",
       "\t<tr><td>0.2</td><td>1.3</td><td>2.1</td></tr>\n",
       "\t<tr><td>0.2</td><td>1.4</td><td>1.8</td></tr>\n",
       "\t<tr><td>0.4</td><td>1.4</td><td>1.8</td></tr>\n",
       "\t<tr><td>0.2</td><td>1.7</td><td>1.8</td></tr>\n",
       "\t<tr><td>0.2</td><td>1.5</td><td>2.1</td></tr>\n",
       "\t<tr><td>0.2</td><td>1.0</td><td>1.6</td></tr>\n",
       "\t<tr><td>0.2</td><td>1.1</td><td>1.9</td></tr>\n",
       "\t<tr><td>0.4</td><td>1.0</td><td>2.0</td></tr>\n",
       "\t<tr><td>0.1</td><td>1.2</td><td>2.2</td></tr>\n",
       "\t<tr><td>0.2</td><td>1.6</td><td>1.5</td></tr>\n",
       "\t<tr><td>0.2</td><td>1.5</td><td>1.4</td></tr>\n",
       "\t<tr><td>0.2</td><td>1.6</td><td>2.3</td></tr>\n",
       "\t<tr><td>0.2</td><td>1.5</td><td>2.4</td></tr>\n",
       "\t<tr><td>0.1</td><td>1.3</td><td>1.8</td></tr>\n",
       "\t<tr><td>0.2</td><td>1.3</td><td>1.8</td></tr>\n",
       "\t<tr><td>0.2</td><td>1.3</td><td>2.1</td></tr>\n",
       "\t<tr><td>0.3</td><td>1.2</td><td>2.4</td></tr>\n",
       "\t<tr><td>0.3</td><td>1.4</td><td>2.3</td></tr>\n",
       "\t<tr><td>0.2</td><td>1.2</td><td>1.9</td></tr>\n",
       "\t<tr><td>0.6</td><td>1.0</td><td>2.3</td></tr>\n",
       "\t<tr><td>0.4</td><td>1.3</td><td>2.5</td></tr>\n",
       "\t<tr><td>0.3</td><td>1.2</td><td>2.3</td></tr>\n",
       "\t<tr><td>0.2</td><td>1.3</td><td>1.9</td></tr>\n",
       "\t<tr><td>0.2</td><td>1.3</td><td>2.0</td></tr>\n",
       "\t<tr><td>0.2</td><td>1.1</td><td>2.3</td></tr>\n",
       "\t<tr><td>0.2</td><td>1.3</td><td>1.8</td></tr>\n",
       "</tbody>\n",
       "</table>\n"
      ],
      "text/latex": [
       "A data.frame: 50 × 3\n",
       "\\begin{tabular}{lll}\n",
       " setosa & versicolor & virginica\\\\\n",
       " <dbl> & <dbl> & <dbl>\\\\\n",
       "\\hline\n",
       "\t 0.2 & 1.4 & 2.5\\\\\n",
       "\t 0.2 & 1.5 & 1.9\\\\\n",
       "\t 0.2 & 1.5 & 2.1\\\\\n",
       "\t 0.2 & 1.3 & 1.8\\\\\n",
       "\t 0.2 & 1.5 & 2.2\\\\\n",
       "\t 0.4 & 1.3 & 2.1\\\\\n",
       "\t 0.3 & 1.6 & 1.7\\\\\n",
       "\t 0.2 & 1.0 & 1.8\\\\\n",
       "\t 0.2 & 1.3 & 1.8\\\\\n",
       "\t 0.1 & 1.4 & 2.5\\\\\n",
       "\t 0.2 & 1.0 & 2.0\\\\\n",
       "\t 0.2 & 1.5 & 1.9\\\\\n",
       "\t 0.1 & 1.0 & 2.1\\\\\n",
       "\t 0.1 & 1.4 & 2.0\\\\\n",
       "\t 0.2 & 1.3 & 2.4\\\\\n",
       "\t 0.4 & 1.4 & 2.3\\\\\n",
       "\t 0.4 & 1.5 & 1.8\\\\\n",
       "\t 0.3 & 1.0 & 2.2\\\\\n",
       "\t 0.3 & 1.5 & 2.3\\\\\n",
       "\t 0.3 & 1.1 & 1.5\\\\\n",
       "\t 0.2 & 1.8 & 2.3\\\\\n",
       "\t 0.4 & 1.3 & 2.0\\\\\n",
       "\t 0.2 & 1.5 & 2.0\\\\\n",
       "\t 0.5 & 1.2 & 1.8\\\\\n",
       "\t 0.2 & 1.3 & 2.1\\\\\n",
       "\t 0.2 & 1.4 & 1.8\\\\\n",
       "\t 0.4 & 1.4 & 1.8\\\\\n",
       "\t 0.2 & 1.7 & 1.8\\\\\n",
       "\t 0.2 & 1.5 & 2.1\\\\\n",
       "\t 0.2 & 1.0 & 1.6\\\\\n",
       "\t 0.2 & 1.1 & 1.9\\\\\n",
       "\t 0.4 & 1.0 & 2.0\\\\\n",
       "\t 0.1 & 1.2 & 2.2\\\\\n",
       "\t 0.2 & 1.6 & 1.5\\\\\n",
       "\t 0.2 & 1.5 & 1.4\\\\\n",
       "\t 0.2 & 1.6 & 2.3\\\\\n",
       "\t 0.2 & 1.5 & 2.4\\\\\n",
       "\t 0.1 & 1.3 & 1.8\\\\\n",
       "\t 0.2 & 1.3 & 1.8\\\\\n",
       "\t 0.2 & 1.3 & 2.1\\\\\n",
       "\t 0.3 & 1.2 & 2.4\\\\\n",
       "\t 0.3 & 1.4 & 2.3\\\\\n",
       "\t 0.2 & 1.2 & 1.9\\\\\n",
       "\t 0.6 & 1.0 & 2.3\\\\\n",
       "\t 0.4 & 1.3 & 2.5\\\\\n",
       "\t 0.3 & 1.2 & 2.3\\\\\n",
       "\t 0.2 & 1.3 & 1.9\\\\\n",
       "\t 0.2 & 1.3 & 2.0\\\\\n",
       "\t 0.2 & 1.1 & 2.3\\\\\n",
       "\t 0.2 & 1.3 & 1.8\\\\\n",
       "\\end{tabular}\n"
      ],
      "text/markdown": [
       "\n",
       "A data.frame: 50 × 3\n",
       "\n",
       "| setosa &lt;dbl&gt; | versicolor &lt;dbl&gt; | virginica &lt;dbl&gt; |\n",
       "|---|---|---|\n",
       "| 0.2 | 1.4 | 2.5 |\n",
       "| 0.2 | 1.5 | 1.9 |\n",
       "| 0.2 | 1.5 | 2.1 |\n",
       "| 0.2 | 1.3 | 1.8 |\n",
       "| 0.2 | 1.5 | 2.2 |\n",
       "| 0.4 | 1.3 | 2.1 |\n",
       "| 0.3 | 1.6 | 1.7 |\n",
       "| 0.2 | 1.0 | 1.8 |\n",
       "| 0.2 | 1.3 | 1.8 |\n",
       "| 0.1 | 1.4 | 2.5 |\n",
       "| 0.2 | 1.0 | 2.0 |\n",
       "| 0.2 | 1.5 | 1.9 |\n",
       "| 0.1 | 1.0 | 2.1 |\n",
       "| 0.1 | 1.4 | 2.0 |\n",
       "| 0.2 | 1.3 | 2.4 |\n",
       "| 0.4 | 1.4 | 2.3 |\n",
       "| 0.4 | 1.5 | 1.8 |\n",
       "| 0.3 | 1.0 | 2.2 |\n",
       "| 0.3 | 1.5 | 2.3 |\n",
       "| 0.3 | 1.1 | 1.5 |\n",
       "| 0.2 | 1.8 | 2.3 |\n",
       "| 0.4 | 1.3 | 2.0 |\n",
       "| 0.2 | 1.5 | 2.0 |\n",
       "| 0.5 | 1.2 | 1.8 |\n",
       "| 0.2 | 1.3 | 2.1 |\n",
       "| 0.2 | 1.4 | 1.8 |\n",
       "| 0.4 | 1.4 | 1.8 |\n",
       "| 0.2 | 1.7 | 1.8 |\n",
       "| 0.2 | 1.5 | 2.1 |\n",
       "| 0.2 | 1.0 | 1.6 |\n",
       "| 0.2 | 1.1 | 1.9 |\n",
       "| 0.4 | 1.0 | 2.0 |\n",
       "| 0.1 | 1.2 | 2.2 |\n",
       "| 0.2 | 1.6 | 1.5 |\n",
       "| 0.2 | 1.5 | 1.4 |\n",
       "| 0.2 | 1.6 | 2.3 |\n",
       "| 0.2 | 1.5 | 2.4 |\n",
       "| 0.1 | 1.3 | 1.8 |\n",
       "| 0.2 | 1.3 | 1.8 |\n",
       "| 0.2 | 1.3 | 2.1 |\n",
       "| 0.3 | 1.2 | 2.4 |\n",
       "| 0.3 | 1.4 | 2.3 |\n",
       "| 0.2 | 1.2 | 1.9 |\n",
       "| 0.6 | 1.0 | 2.3 |\n",
       "| 0.4 | 1.3 | 2.5 |\n",
       "| 0.3 | 1.2 | 2.3 |\n",
       "| 0.2 | 1.3 | 1.9 |\n",
       "| 0.2 | 1.3 | 2.0 |\n",
       "| 0.2 | 1.1 | 2.3 |\n",
       "| 0.2 | 1.3 | 1.8 |\n",
       "\n"
      ],
      "text/plain": [
       "   setosa versicolor virginica\n",
       "1  0.2    1.4        2.5      \n",
       "2  0.2    1.5        1.9      \n",
       "3  0.2    1.5        2.1      \n",
       "4  0.2    1.3        1.8      \n",
       "5  0.2    1.5        2.2      \n",
       "6  0.4    1.3        2.1      \n",
       "7  0.3    1.6        1.7      \n",
       "8  0.2    1.0        1.8      \n",
       "9  0.2    1.3        1.8      \n",
       "10 0.1    1.4        2.5      \n",
       "11 0.2    1.0        2.0      \n",
       "12 0.2    1.5        1.9      \n",
       "13 0.1    1.0        2.1      \n",
       "14 0.1    1.4        2.0      \n",
       "15 0.2    1.3        2.4      \n",
       "16 0.4    1.4        2.3      \n",
       "17 0.4    1.5        1.8      \n",
       "18 0.3    1.0        2.2      \n",
       "19 0.3    1.5        2.3      \n",
       "20 0.3    1.1        1.5      \n",
       "21 0.2    1.8        2.3      \n",
       "22 0.4    1.3        2.0      \n",
       "23 0.2    1.5        2.0      \n",
       "24 0.5    1.2        1.8      \n",
       "25 0.2    1.3        2.1      \n",
       "26 0.2    1.4        1.8      \n",
       "27 0.4    1.4        1.8      \n",
       "28 0.2    1.7        1.8      \n",
       "29 0.2    1.5        2.1      \n",
       "30 0.2    1.0        1.6      \n",
       "31 0.2    1.1        1.9      \n",
       "32 0.4    1.0        2.0      \n",
       "33 0.1    1.2        2.2      \n",
       "34 0.2    1.6        1.5      \n",
       "35 0.2    1.5        1.4      \n",
       "36 0.2    1.6        2.3      \n",
       "37 0.2    1.5        2.4      \n",
       "38 0.1    1.3        1.8      \n",
       "39 0.2    1.3        1.8      \n",
       "40 0.2    1.3        2.1      \n",
       "41 0.3    1.2        2.4      \n",
       "42 0.3    1.4        2.3      \n",
       "43 0.2    1.2        1.9      \n",
       "44 0.6    1.0        2.3      \n",
       "45 0.4    1.3        2.5      \n",
       "46 0.3    1.2        2.3      \n",
       "47 0.2    1.3        1.9      \n",
       "48 0.2    1.3        2.0      \n",
       "49 0.2    1.1        2.3      \n",
       "50 0.2    1.3        1.8      "
      ]
     },
     "metadata": {},
     "output_type": "display_data"
    },
    {
     "data": {
      "image/png": "[encoded data removed]",
      "text/plain": [
       "plot without title"
      ]
     },
     "metadata": {
      "image/png": {
       "height": 420,
       "width": 420
      }
     },
     "output_type": "display_data"
    }
   ],
   "source": [
    "#Repetimos para el ancho del pétalo\n",
    "Ancho_petalo <- iris[, c(\"Petal.Width\", \"Species\")]\n",
    "Ancho_petalo <- unstack((Ancho_petalo))\n",
    "View(Ancho_petalo)\n",
    "boxplot(Ancho_petalo,col=colores) #Utilizamos la funcición boxplot"
   ]
  },
  {
   "cell_type": "code",
   "execution_count": 51,
   "metadata": {
    "vscode": {
     "languageId": "r"
    }
   },
   "outputs": [
    {
     "data": {
      "text/html": [
       "<table class=\"dataframe\">\n",
       "<caption>A data.frame: 50 × 3</caption>\n",
       "<thead>\n",
       "\t<tr><th scope=col>setosa</th><th scope=col>versicolor</th><th scope=col>virginica</th></tr>\n",
       "\t<tr><th scope=col>&lt;dbl&gt;</th><th scope=col>&lt;dbl&gt;</th><th scope=col>&lt;dbl&gt;</th></tr>\n",
       "</thead>\n",
       "<tbody>\n",
       "\t<tr><td>3.5</td><td>3.2</td><td>3.3</td></tr>\n",
       "\t<tr><td>3.0</td><td>3.2</td><td>2.7</td></tr>\n",
       "\t<tr><td>3.2</td><td>3.1</td><td>3.0</td></tr>\n",
       "\t<tr><td>3.1</td><td>2.3</td><td>2.9</td></tr>\n",
       "\t<tr><td>3.6</td><td>2.8</td><td>3.0</td></tr>\n",
       "\t<tr><td>3.9</td><td>2.8</td><td>3.0</td></tr>\n",
       "\t<tr><td>3.4</td><td>3.3</td><td>2.5</td></tr>\n",
       "\t<tr><td>3.4</td><td>2.4</td><td>2.9</td></tr>\n",
       "\t<tr><td>2.9</td><td>2.9</td><td>2.5</td></tr>\n",
       "\t<tr><td>3.1</td><td>2.7</td><td>3.6</td></tr>\n",
       "\t<tr><td>3.7</td><td>2.0</td><td>3.2</td></tr>\n",
       "\t<tr><td>3.4</td><td>3.0</td><td>2.7</td></tr>\n",
       "\t<tr><td>3.0</td><td>2.2</td><td>3.0</td></tr>\n",
       "\t<tr><td>3.0</td><td>2.9</td><td>2.5</td></tr>\n",
       "\t<tr><td>4.0</td><td>2.9</td><td>2.8</td></tr>\n",
       "\t<tr><td>4.4</td><td>3.1</td><td>3.2</td></tr>\n",
       "\t<tr><td>3.9</td><td>3.0</td><td>3.0</td></tr>\n",
       "\t<tr><td>3.5</td><td>2.7</td><td>3.8</td></tr>\n",
       "\t<tr><td>3.8</td><td>2.2</td><td>2.6</td></tr>\n",
       "\t<tr><td>3.8</td><td>2.5</td><td>2.2</td></tr>\n",
       "\t<tr><td>3.4</td><td>3.2</td><td>3.2</td></tr>\n",
       "\t<tr><td>3.7</td><td>2.8</td><td>2.8</td></tr>\n",
       "\t<tr><td>3.6</td><td>2.5</td><td>2.8</td></tr>\n",
       "\t<tr><td>3.3</td><td>2.8</td><td>2.7</td></tr>\n",
       "\t<tr><td>3.4</td><td>2.9</td><td>3.3</td></tr>\n",
       "\t<tr><td>3.0</td><td>3.0</td><td>3.2</td></tr>\n",
       "\t<tr><td>3.4</td><td>2.8</td><td>2.8</td></tr>\n",
       "\t<tr><td>3.5</td><td>3.0</td><td>3.0</td></tr>\n",
       "\t<tr><td>3.4</td><td>2.9</td><td>2.8</td></tr>\n",
       "\t<tr><td>3.2</td><td>2.6</td><td>3.0</td></tr>\n",
       "\t<tr><td>3.1</td><td>2.4</td><td>2.8</td></tr>\n",
       "\t<tr><td>3.4</td><td>2.4</td><td>3.8</td></tr>\n",
       "\t<tr><td>4.1</td><td>2.7</td><td>2.8</td></tr>\n",
       "\t<tr><td>4.2</td><td>2.7</td><td>2.8</td></tr>\n",
       "\t<tr><td>3.1</td><td>3.0</td><td>2.6</td></tr>\n",
       "\t<tr><td>3.2</td><td>3.4</td><td>3.0</td></tr>\n",
       "\t<tr><td>3.5</td><td>3.1</td><td>3.4</td></tr>\n",
       "\t<tr><td>3.6</td><td>2.3</td><td>3.1</td></tr>\n",
       "\t<tr><td>3.0</td><td>3.0</td><td>3.0</td></tr>\n",
       "\t<tr><td>3.4</td><td>2.5</td><td>3.1</td></tr>\n",
       "\t<tr><td>3.5</td><td>2.6</td><td>3.1</td></tr>\n",
       "\t<tr><td>2.3</td><td>3.0</td><td>3.1</td></tr>\n",
       "\t<tr><td>3.2</td><td>2.6</td><td>2.7</td></tr>\n",
       "\t<tr><td>3.5</td><td>2.3</td><td>3.2</td></tr>\n",
       "\t<tr><td>3.8</td><td>2.7</td><td>3.3</td></tr>\n",
       "\t<tr><td>3.0</td><td>3.0</td><td>3.0</td></tr>\n",
       "\t<tr><td>3.8</td><td>2.9</td><td>2.5</td></tr>\n",
       "\t<tr><td>3.2</td><td>2.9</td><td>3.0</td></tr>\n",
       "\t<tr><td>3.7</td><td>2.5</td><td>3.4</td></tr>\n",
       "\t<tr><td>3.3</td><td>2.8</td><td>3.0</td></tr>\n",
       "</tbody>\n",
       "</table>\n"
      ],
      "text/latex": [
       "A data.frame: 50 × 3\n",
       "\\begin{tabular}{lll}\n",
       " setosa & versicolor & virginica\\\\\n",
       " <dbl> & <dbl> & <dbl>\\\\\n",
       "\\hline\n",
       "\t 3.5 & 3.2 & 3.3\\\\\n",
       "\t 3.0 & 3.2 & 2.7\\\\\n",
       "\t 3.2 & 3.1 & 3.0\\\\\n",
       "\t 3.1 & 2.3 & 2.9\\\\\n",
       "\t 3.6 & 2.8 & 3.0\\\\\n",
       "\t 3.9 & 2.8 & 3.0\\\\\n",
       "\t 3.4 & 3.3 & 2.5\\\\\n",
       "\t 3.4 & 2.4 & 2.9\\\\\n",
       "\t 2.9 & 2.9 & 2.5\\\\\n",
       "\t 3.1 & 2.7 & 3.6\\\\\n",
       "\t 3.7 & 2.0 & 3.2\\\\\n",
       "\t 3.4 & 3.0 & 2.7\\\\\n",
       "\t 3.0 & 2.2 & 3.0\\\\\n",
       "\t 3.0 & 2.9 & 2.5\\\\\n",
       "\t 4.0 & 2.9 & 2.8\\\\\n",
       "\t 4.4 & 3.1 & 3.2\\\\\n",
       "\t 3.9 & 3.0 & 3.0\\\\\n",
       "\t 3.5 & 2.7 & 3.8\\\\\n",
       "\t 3.8 & 2.2 & 2.6\\\\\n",
       "\t 3.8 & 2.5 & 2.2\\\\\n",
       "\t 3.4 & 3.2 & 3.2\\\\\n",
       "\t 3.7 & 2.8 & 2.8\\\\\n",
       "\t 3.6 & 2.5 & 2.8\\\\\n",
       "\t 3.3 & 2.8 & 2.7\\\\\n",
       "\t 3.4 & 2.9 & 3.3\\\\\n",
       "\t 3.0 & 3.0 & 3.2\\\\\n",
       "\t 3.4 & 2.8 & 2.8\\\\\n",
       "\t 3.5 & 3.0 & 3.0\\\\\n",
       "\t 3.4 & 2.9 & 2.8\\\\\n",
       "\t 3.2 & 2.6 & 3.0\\\\\n",
       "\t 3.1 & 2.4 & 2.8\\\\\n",
       "\t 3.4 & 2.4 & 3.8\\\\\n",
       "\t 4.1 & 2.7 & 2.8\\\\\n",
       "\t 4.2 & 2.7 & 2.8\\\\\n",
       "\t 3.1 & 3.0 & 2.6\\\\\n",
       "\t 3.2 & 3.4 & 3.0\\\\\n",
       "\t 3.5 & 3.1 & 3.4\\\\\n",
       "\t 3.6 & 2.3 & 3.1\\\\\n",
       "\t 3.0 & 3.0 & 3.0\\\\\n",
       "\t 3.4 & 2.5 & 3.1\\\\\n",
       "\t 3.5 & 2.6 & 3.1\\\\\n",
       "\t 2.3 & 3.0 & 3.1\\\\\n",
       "\t 3.2 & 2.6 & 2.7\\\\\n",
       "\t 3.5 & 2.3 & 3.2\\\\\n",
       "\t 3.8 & 2.7 & 3.3\\\\\n",
       "\t 3.0 & 3.0 & 3.0\\\\\n",
       "\t 3.8 & 2.9 & 2.5\\\\\n",
       "\t 3.2 & 2.9 & 3.0\\\\\n",
       "\t 3.7 & 2.5 & 3.4\\\\\n",
       "\t 3.3 & 2.8 & 3.0\\\\\n",
       "\\end{tabular}\n"
      ],
      "text/markdown": [
       "\n",
       "A data.frame: 50 × 3\n",
       "\n",
       "| setosa &lt;dbl&gt; | versicolor &lt;dbl&gt; | virginica &lt;dbl&gt; |\n",
       "|---|---|---|\n",
       "| 3.5 | 3.2 | 3.3 |\n",
       "| 3.0 | 3.2 | 2.7 |\n",
       "| 3.2 | 3.1 | 3.0 |\n",
       "| 3.1 | 2.3 | 2.9 |\n",
       "| 3.6 | 2.8 | 3.0 |\n",
       "| 3.9 | 2.8 | 3.0 |\n",
       "| 3.4 | 3.3 | 2.5 |\n",
       "| 3.4 | 2.4 | 2.9 |\n",
       "| 2.9 | 2.9 | 2.5 |\n",
       "| 3.1 | 2.7 | 3.6 |\n",
       "| 3.7 | 2.0 | 3.2 |\n",
       "| 3.4 | 3.0 | 2.7 |\n",
       "| 3.0 | 2.2 | 3.0 |\n",
       "| 3.0 | 2.9 | 2.5 |\n",
       "| 4.0 | 2.9 | 2.8 |\n",
       "| 4.4 | 3.1 | 3.2 |\n",
       "| 3.9 | 3.0 | 3.0 |\n",
       "| 3.5 | 2.7 | 3.8 |\n",
       "| 3.8 | 2.2 | 2.6 |\n",
       "| 3.8 | 2.5 | 2.2 |\n",
       "| 3.4 | 3.2 | 3.2 |\n",
       "| 3.7 | 2.8 | 2.8 |\n",
       "| 3.6 | 2.5 | 2.8 |\n",
       "| 3.3 | 2.8 | 2.7 |\n",
       "| 3.4 | 2.9 | 3.3 |\n",
       "| 3.0 | 3.0 | 3.2 |\n",
       "| 3.4 | 2.8 | 2.8 |\n",
       "| 3.5 | 3.0 | 3.0 |\n",
       "| 3.4 | 2.9 | 2.8 |\n",
       "| 3.2 | 2.6 | 3.0 |\n",
       "| 3.1 | 2.4 | 2.8 |\n",
       "| 3.4 | 2.4 | 3.8 |\n",
       "| 4.1 | 2.7 | 2.8 |\n",
       "| 4.2 | 2.7 | 2.8 |\n",
       "| 3.1 | 3.0 | 2.6 |\n",
       "| 3.2 | 3.4 | 3.0 |\n",
       "| 3.5 | 3.1 | 3.4 |\n",
       "| 3.6 | 2.3 | 3.1 |\n",
       "| 3.0 | 3.0 | 3.0 |\n",
       "| 3.4 | 2.5 | 3.1 |\n",
       "| 3.5 | 2.6 | 3.1 |\n",
       "| 2.3 | 3.0 | 3.1 |\n",
       "| 3.2 | 2.6 | 2.7 |\n",
       "| 3.5 | 2.3 | 3.2 |\n",
       "| 3.8 | 2.7 | 3.3 |\n",
       "| 3.0 | 3.0 | 3.0 |\n",
       "| 3.8 | 2.9 | 2.5 |\n",
       "| 3.2 | 2.9 | 3.0 |\n",
       "| 3.7 | 2.5 | 3.4 |\n",
       "| 3.3 | 2.8 | 3.0 |\n",
       "\n"
      ],
      "text/plain": [
       "   setosa versicolor virginica\n",
       "1  3.5    3.2        3.3      \n",
       "2  3.0    3.2        2.7      \n",
       "3  3.2    3.1        3.0      \n",
       "4  3.1    2.3        2.9      \n",
       "5  3.6    2.8        3.0      \n",
       "6  3.9    2.8        3.0      \n",
       "7  3.4    3.3        2.5      \n",
       "8  3.4    2.4        2.9      \n",
       "9  2.9    2.9        2.5      \n",
       "10 3.1    2.7        3.6      \n",
       "11 3.7    2.0        3.2      \n",
       "12 3.4    3.0        2.7      \n",
       "13 3.0    2.2        3.0      \n",
       "14 3.0    2.9        2.5      \n",
       "15 4.0    2.9        2.8      \n",
       "16 4.4    3.1        3.2      \n",
       "17 3.9    3.0        3.0      \n",
       "18 3.5    2.7        3.8      \n",
       "19 3.8    2.2        2.6      \n",
       "20 3.8    2.5        2.2      \n",
       "21 3.4    3.2        3.2      \n",
       "22 3.7    2.8        2.8      \n",
       "23 3.6    2.5        2.8      \n",
       "24 3.3    2.8        2.7      \n",
       "25 3.4    2.9        3.3      \n",
       "26 3.0    3.0        3.2      \n",
       "27 3.4    2.8        2.8      \n",
       "28 3.5    3.0        3.0      \n",
       "29 3.4    2.9        2.8      \n",
       "30 3.2    2.6        3.0      \n",
       "31 3.1    2.4        2.8      \n",
       "32 3.4    2.4        3.8      \n",
       "33 4.1    2.7        2.8      \n",
       "34 4.2    2.7        2.8      \n",
       "35 3.1    3.0        2.6      \n",
       "36 3.2    3.4        3.0      \n",
       "37 3.5    3.1        3.4      \n",
       "38 3.6    2.3        3.1      \n",
       "39 3.0    3.0        3.0      \n",
       "40 3.4    2.5        3.1      \n",
       "41 3.5    2.6        3.1      \n",
       "42 2.3    3.0        3.1      \n",
       "43 3.2    2.6        2.7      \n",
       "44 3.5    2.3        3.2      \n",
       "45 3.8    2.7        3.3      \n",
       "46 3.0    3.0        3.0      \n",
       "47 3.8    2.9        2.5      \n",
       "48 3.2    2.9        3.0      \n",
       "49 3.7    2.5        3.4      \n",
       "50 3.3    2.8        3.0      "
      ]
     },
     "metadata": {},
     "output_type": "display_data"
    },
    {
     "data": {
      "image/png": "[encoded data removed]",
      "text/plain": [
       "plot without title"
      ]
     },
     "metadata": {
      "image/png": {
       "height": 420,
       "width": 420
      }
     },
     "output_type": "display_data"
    }
   ],
   "source": [
    "#Repetimos para el ancho del sepalo\n",
    "Ancho_sepalo <- iris[, c(\"Sepal.Width\", \"Species\")]\n",
    "Ancho_sepalo <- unstack((Ancho_sepalo))\n",
    "View(Ancho_sepalo)\n",
    "boxplot(Ancho_sepalo,col=colores) #Utilizamos la funcición boxplot"
   ]
  },
  {
   "cell_type": "code",
   "execution_count": 52,
   "metadata": {
    "vscode": {
     "languageId": "r"
    }
   },
   "outputs": [
    {
     "data": {
      "text/html": [
       "<table class=\"dataframe\">\n",
       "<caption>A data.frame: 50 × 3</caption>\n",
       "<thead>\n",
       "\t<tr><th scope=col>setosa</th><th scope=col>versicolor</th><th scope=col>virginica</th></tr>\n",
       "\t<tr><th scope=col>&lt;dbl&gt;</th><th scope=col>&lt;dbl&gt;</th><th scope=col>&lt;dbl&gt;</th></tr>\n",
       "</thead>\n",
       "<tbody>\n",
       "\t<tr><td>1.4</td><td>4.7</td><td>6.0</td></tr>\n",
       "\t<tr><td>1.4</td><td>4.5</td><td>5.1</td></tr>\n",
       "\t<tr><td>1.3</td><td>4.9</td><td>5.9</td></tr>\n",
       "\t<tr><td>1.5</td><td>4.0</td><td>5.6</td></tr>\n",
       "\t<tr><td>1.4</td><td>4.6</td><td>5.8</td></tr>\n",
       "\t<tr><td>1.7</td><td>4.5</td><td>6.6</td></tr>\n",
       "\t<tr><td>1.4</td><td>4.7</td><td>4.5</td></tr>\n",
       "\t<tr><td>1.5</td><td>3.3</td><td>6.3</td></tr>\n",
       "\t<tr><td>1.4</td><td>4.6</td><td>5.8</td></tr>\n",
       "\t<tr><td>1.5</td><td>3.9</td><td>6.1</td></tr>\n",
       "\t<tr><td>1.5</td><td>3.5</td><td>5.1</td></tr>\n",
       "\t<tr><td>1.6</td><td>4.2</td><td>5.3</td></tr>\n",
       "\t<tr><td>1.4</td><td>4.0</td><td>5.5</td></tr>\n",
       "\t<tr><td>1.1</td><td>4.7</td><td>5.0</td></tr>\n",
       "\t<tr><td>1.2</td><td>3.6</td><td>5.1</td></tr>\n",
       "\t<tr><td>1.5</td><td>4.4</td><td>5.3</td></tr>\n",
       "\t<tr><td>1.3</td><td>4.5</td><td>5.5</td></tr>\n",
       "\t<tr><td>1.4</td><td>4.1</td><td>6.7</td></tr>\n",
       "\t<tr><td>1.7</td><td>4.5</td><td>6.9</td></tr>\n",
       "\t<tr><td>1.5</td><td>3.9</td><td>5.0</td></tr>\n",
       "\t<tr><td>1.7</td><td>4.8</td><td>5.7</td></tr>\n",
       "\t<tr><td>1.5</td><td>4.0</td><td>4.9</td></tr>\n",
       "\t<tr><td>1.0</td><td>4.9</td><td>6.7</td></tr>\n",
       "\t<tr><td>1.7</td><td>4.7</td><td>4.9</td></tr>\n",
       "\t<tr><td>1.9</td><td>4.3</td><td>5.7</td></tr>\n",
       "\t<tr><td>1.6</td><td>4.4</td><td>6.0</td></tr>\n",
       "\t<tr><td>1.6</td><td>4.8</td><td>4.8</td></tr>\n",
       "\t<tr><td>1.5</td><td>5.0</td><td>4.9</td></tr>\n",
       "\t<tr><td>1.4</td><td>4.5</td><td>5.6</td></tr>\n",
       "\t<tr><td>1.6</td><td>3.5</td><td>5.8</td></tr>\n",
       "\t<tr><td>1.6</td><td>3.8</td><td>6.1</td></tr>\n",
       "\t<tr><td>1.5</td><td>3.7</td><td>6.4</td></tr>\n",
       "\t<tr><td>1.5</td><td>3.9</td><td>5.6</td></tr>\n",
       "\t<tr><td>1.4</td><td>5.1</td><td>5.1</td></tr>\n",
       "\t<tr><td>1.5</td><td>4.5</td><td>5.6</td></tr>\n",
       "\t<tr><td>1.2</td><td>4.5</td><td>6.1</td></tr>\n",
       "\t<tr><td>1.3</td><td>4.7</td><td>5.6</td></tr>\n",
       "\t<tr><td>1.4</td><td>4.4</td><td>5.5</td></tr>\n",
       "\t<tr><td>1.3</td><td>4.1</td><td>4.8</td></tr>\n",
       "\t<tr><td>1.5</td><td>4.0</td><td>5.4</td></tr>\n",
       "\t<tr><td>1.3</td><td>4.4</td><td>5.6</td></tr>\n",
       "\t<tr><td>1.3</td><td>4.6</td><td>5.1</td></tr>\n",
       "\t<tr><td>1.3</td><td>4.0</td><td>5.1</td></tr>\n",
       "\t<tr><td>1.6</td><td>3.3</td><td>5.9</td></tr>\n",
       "\t<tr><td>1.9</td><td>4.2</td><td>5.7</td></tr>\n",
       "\t<tr><td>1.4</td><td>4.2</td><td>5.2</td></tr>\n",
       "\t<tr><td>1.6</td><td>4.2</td><td>5.0</td></tr>\n",
       "\t<tr><td>1.4</td><td>4.3</td><td>5.2</td></tr>\n",
       "\t<tr><td>1.5</td><td>3.0</td><td>5.4</td></tr>\n",
       "\t<tr><td>1.4</td><td>4.1</td><td>5.1</td></tr>\n",
       "</tbody>\n",
       "</table>\n"
      ],
      "text/latex": [
       "A data.frame: 50 × 3\n",
       "\\begin{tabular}{lll}\n",
       " setosa & versicolor & virginica\\\\\n",
       " <dbl> & <dbl> & <dbl>\\\\\n",
       "\\hline\n",
       "\t 1.4 & 4.7 & 6.0\\\\\n",
       "\t 1.4 & 4.5 & 5.1\\\\\n",
       "\t 1.3 & 4.9 & 5.9\\\\\n",
       "\t 1.5 & 4.0 & 5.6\\\\\n",
       "\t 1.4 & 4.6 & 5.8\\\\\n",
       "\t 1.7 & 4.5 & 6.6\\\\\n",
       "\t 1.4 & 4.7 & 4.5\\\\\n",
       "\t 1.5 & 3.3 & 6.3\\\\\n",
       "\t 1.4 & 4.6 & 5.8\\\\\n",
       "\t 1.5 & 3.9 & 6.1\\\\\n",
       "\t 1.5 & 3.5 & 5.1\\\\\n",
       "\t 1.6 & 4.2 & 5.3\\\\\n",
       "\t 1.4 & 4.0 & 5.5\\\\\n",
       "\t 1.1 & 4.7 & 5.0\\\\\n",
       "\t 1.2 & 3.6 & 5.1\\\\\n",
       "\t 1.5 & 4.4 & 5.3\\\\\n",
       "\t 1.3 & 4.5 & 5.5\\\\\n",
       "\t 1.4 & 4.1 & 6.7\\\\\n",
       "\t 1.7 & 4.5 & 6.9\\\\\n",
       "\t 1.5 & 3.9 & 5.0\\\\\n",
       "\t 1.7 & 4.8 & 5.7\\\\\n",
       "\t 1.5 & 4.0 & 4.9\\\\\n",
       "\t 1.0 & 4.9 & 6.7\\\\\n",
       "\t 1.7 & 4.7 & 4.9\\\\\n",
       "\t 1.9 & 4.3 & 5.7\\\\\n",
       "\t 1.6 & 4.4 & 6.0\\\\\n",
       "\t 1.6 & 4.8 & 4.8\\\\\n",
       "\t 1.5 & 5.0 & 4.9\\\\\n",
       "\t 1.4 & 4.5 & 5.6\\\\\n",
       "\t 1.6 & 3.5 & 5.8\\\\\n",
       "\t 1.6 & 3.8 & 6.1\\\\\n",
       "\t 1.5 & 3.7 & 6.4\\\\\n",
       "\t 1.5 & 3.9 & 5.6\\\\\n",
       "\t 1.4 & 5.1 & 5.1\\\\\n",
       "\t 1.5 & 4.5 & 5.6\\\\\n",
       "\t 1.2 & 4.5 & 6.1\\\\\n",
       "\t 1.3 & 4.7 & 5.6\\\\\n",
       "\t 1.4 & 4.4 & 5.5\\\\\n",
       "\t 1.3 & 4.1 & 4.8\\\\\n",
       "\t 1.5 & 4.0 & 5.4\\\\\n",
       "\t 1.3 & 4.4 & 5.6\\\\\n",
       "\t 1.3 & 4.6 & 5.1\\\\\n",
       "\t 1.3 & 4.0 & 5.1\\\\\n",
       "\t 1.6 & 3.3 & 5.9\\\\\n",
       "\t 1.9 & 4.2 & 5.7\\\\\n",
       "\t 1.4 & 4.2 & 5.2\\\\\n",
       "\t 1.6 & 4.2 & 5.0\\\\\n",
       "\t 1.4 & 4.3 & 5.2\\\\\n",
       "\t 1.5 & 3.0 & 5.4\\\\\n",
       "\t 1.4 & 4.1 & 5.1\\\\\n",
       "\\end{tabular}\n"
      ],
      "text/markdown": [
       "\n",
       "A data.frame: 50 × 3\n",
       "\n",
       "| setosa &lt;dbl&gt; | versicolor &lt;dbl&gt; | virginica &lt;dbl&gt; |\n",
       "|---|---|---|\n",
       "| 1.4 | 4.7 | 6.0 |\n",
       "| 1.4 | 4.5 | 5.1 |\n",
       "| 1.3 | 4.9 | 5.9 |\n",
       "| 1.5 | 4.0 | 5.6 |\n",
       "| 1.4 | 4.6 | 5.8 |\n",
       "| 1.7 | 4.5 | 6.6 |\n",
       "| 1.4 | 4.7 | 4.5 |\n",
       "| 1.5 | 3.3 | 6.3 |\n",
       "| 1.4 | 4.6 | 5.8 |\n",
       "| 1.5 | 3.9 | 6.1 |\n",
       "| 1.5 | 3.5 | 5.1 |\n",
       "| 1.6 | 4.2 | 5.3 |\n",
       "| 1.4 | 4.0 | 5.5 |\n",
       "| 1.1 | 4.7 | 5.0 |\n",
       "| 1.2 | 3.6 | 5.1 |\n",
       "| 1.5 | 4.4 | 5.3 |\n",
       "| 1.3 | 4.5 | 5.5 |\n",
       "| 1.4 | 4.1 | 6.7 |\n",
       "| 1.7 | 4.5 | 6.9 |\n",
       "| 1.5 | 3.9 | 5.0 |\n",
       "| 1.7 | 4.8 | 5.7 |\n",
       "| 1.5 | 4.0 | 4.9 |\n",
       "| 1.0 | 4.9 | 6.7 |\n",
       "| 1.7 | 4.7 | 4.9 |\n",
       "| 1.9 | 4.3 | 5.7 |\n",
       "| 1.6 | 4.4 | 6.0 |\n",
       "| 1.6 | 4.8 | 4.8 |\n",
       "| 1.5 | 5.0 | 4.9 |\n",
       "| 1.4 | 4.5 | 5.6 |\n",
       "| 1.6 | 3.5 | 5.8 |\n",
       "| 1.6 | 3.8 | 6.1 |\n",
       "| 1.5 | 3.7 | 6.4 |\n",
       "| 1.5 | 3.9 | 5.6 |\n",
       "| 1.4 | 5.1 | 5.1 |\n",
       "| 1.5 | 4.5 | 5.6 |\n",
       "| 1.2 | 4.5 | 6.1 |\n",
       "| 1.3 | 4.7 | 5.6 |\n",
       "| 1.4 | 4.4 | 5.5 |\n",
       "| 1.3 | 4.1 | 4.8 |\n",
       "| 1.5 | 4.0 | 5.4 |\n",
       "| 1.3 | 4.4 | 5.6 |\n",
       "| 1.3 | 4.6 | 5.1 |\n",
       "| 1.3 | 4.0 | 5.1 |\n",
       "| 1.6 | 3.3 | 5.9 |\n",
       "| 1.9 | 4.2 | 5.7 |\n",
       "| 1.4 | 4.2 | 5.2 |\n",
       "| 1.6 | 4.2 | 5.0 |\n",
       "| 1.4 | 4.3 | 5.2 |\n",
       "| 1.5 | 3.0 | 5.4 |\n",
       "| 1.4 | 4.1 | 5.1 |\n",
       "\n"
      ],
      "text/plain": [
       "   setosa versicolor virginica\n",
       "1  1.4    4.7        6.0      \n",
       "2  1.4    4.5        5.1      \n",
       "3  1.3    4.9        5.9      \n",
       "4  1.5    4.0        5.6      \n",
       "5  1.4    4.6        5.8      \n",
       "6  1.7    4.5        6.6      \n",
       "7  1.4    4.7        4.5      \n",
       "8  1.5    3.3        6.3      \n",
       "9  1.4    4.6        5.8      \n",
       "10 1.5    3.9        6.1      \n",
       "11 1.5    3.5        5.1      \n",
       "12 1.6    4.2        5.3      \n",
       "13 1.4    4.0        5.5      \n",
       "14 1.1    4.7        5.0      \n",
       "15 1.2    3.6        5.1      \n",
       "16 1.5    4.4        5.3      \n",
       "17 1.3    4.5        5.5      \n",
       "18 1.4    4.1        6.7      \n",
       "19 1.7    4.5        6.9      \n",
       "20 1.5    3.9        5.0      \n",
       "21 1.7    4.8        5.7      \n",
       "22 1.5    4.0        4.9      \n",
       "23 1.0    4.9        6.7      \n",
       "24 1.7    4.7        4.9      \n",
       "25 1.9    4.3        5.7      \n",
       "26 1.6    4.4        6.0      \n",
       "27 1.6    4.8        4.8      \n",
       "28 1.5    5.0        4.9      \n",
       "29 1.4    4.5        5.6      \n",
       "30 1.6    3.5        5.8      \n",
       "31 1.6    3.8        6.1      \n",
       "32 1.5    3.7        6.4      \n",
       "33 1.5    3.9        5.6      \n",
       "34 1.4    5.1        5.1      \n",
       "35 1.5    4.5        5.6      \n",
       "36 1.2    4.5        6.1      \n",
       "37 1.3    4.7        5.6      \n",
       "38 1.4    4.4        5.5      \n",
       "39 1.3    4.1        4.8      \n",
       "40 1.5    4.0        5.4      \n",
       "41 1.3    4.4        5.6      \n",
       "42 1.3    4.6        5.1      \n",
       "43 1.3    4.0        5.1      \n",
       "44 1.6    3.3        5.9      \n",
       "45 1.9    4.2        5.7      \n",
       "46 1.4    4.2        5.2      \n",
       "47 1.6    4.2        5.0      \n",
       "48 1.4    4.3        5.2      \n",
       "49 1.5    3.0        5.4      \n",
       "50 1.4    4.1        5.1      "
      ]
     },
     "metadata": {},
     "output_type": "display_data"
    },
    {
     "data": {
      "image/png": "[encoded data removed]",
      "text/plain": [
       "plot without title"
      ]
     },
     "metadata": {
      "image/png": {
       "height": 420,
       "width": 420
      }
     },
     "output_type": "display_data"
    }
   ],
   "source": [
    "#Finalmente repetimos para la longitud del sépalo\n",
    "Longitud_sepalo <- iris[, c(\"Petal.Length\", \"Species\")]\n",
    "#Usamos la función unstack para trasponer el dataframe de tal forma que losgrupos sean las etiquetas\n",
    "Longitud_sepalo<-unstack(Longitud_sepalo)\n",
    "View(Longitud_sepalo) #Mostramos el dataframe\n",
    "colores <- brewer.pal(5, \"Set1\")\n",
    "boxplot(Longitud_sepalo,col=colores) #Utilizamos la funcición boxplot"
   ]
  }
 ],
 "metadata": {
  "kernelspec": {
   "display_name": "R",
   "language": "R",
   "name": "ir"
  },
  "language_info": {
   "codemirror_mode": "r",
   "file_extension": ".r",
   "mimetype": "text/x-r-source",
   "name": "R",
   "pygments_lexer": "r",
   "version": "4.1.2"
  },
  "orig_nbformat": 4
 },
 "nbformat": 4,
 "nbformat_minor": 2
}
